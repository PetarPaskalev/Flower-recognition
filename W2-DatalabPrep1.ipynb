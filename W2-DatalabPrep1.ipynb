{
 "cells": [
  {
   "cell_type": "code",
   "execution_count": 1,
   "metadata": {},
   "outputs": [],
   "source": [
    "from tensorflow.keras.datasets import imdb\n",
    "import matplotlib.pyplot as plt \n",
    "import os \n",
    "os.environ['KMP_DUPLICATE_LIB_OK']='True' # use this because the kernel was crashing a lot \n"
   ]
  },
  {
   "cell_type": "code",
   "execution_count": 3,
   "metadata": {},
   "outputs": [],
   "source": [
    "(train_data, train_labels), (test_data, test_labels) = imdb.load_data(\n",
    " num_words=10000)"
   ]
  },
  {
   "cell_type": "code",
   "execution_count": 5,
   "metadata": {},
   "outputs": [
    {
     "data": {
      "text/plain": [
       "[1,\n",
       " 14,\n",
       " 22,\n",
       " 16,\n",
       " 43,\n",
       " 530,\n",
       " 973,\n",
       " 1622,\n",
       " 1385,\n",
       " 65,\n",
       " 458,\n",
       " 4468,\n",
       " 66,\n",
       " 3941,\n",
       " 4,\n",
       " 173,\n",
       " 36,\n",
       " 256,\n",
       " 5,\n",
       " 25,\n",
       " 100,\n",
       " 43,\n",
       " 838,\n",
       " 112,\n",
       " 50,\n",
       " 670,\n",
       " 2,\n",
       " 9,\n",
       " 35,\n",
       " 480,\n",
       " 284,\n",
       " 5,\n",
       " 150,\n",
       " 4,\n",
       " 172,\n",
       " 112,\n",
       " 167,\n",
       " 2,\n",
       " 336,\n",
       " 385,\n",
       " 39,\n",
       " 4,\n",
       " 172,\n",
       " 4536,\n",
       " 1111,\n",
       " 17,\n",
       " 546,\n",
       " 38,\n",
       " 13,\n",
       " 447,\n",
       " 4,\n",
       " 192,\n",
       " 50,\n",
       " 16,\n",
       " 6,\n",
       " 147,\n",
       " 2025,\n",
       " 19,\n",
       " 14,\n",
       " 22,\n",
       " 4,\n",
       " 1920,\n",
       " 4613,\n",
       " 469,\n",
       " 4,\n",
       " 22,\n",
       " 71,\n",
       " 87,\n",
       " 12,\n",
       " 16,\n",
       " 43,\n",
       " 530,\n",
       " 38,\n",
       " 76,\n",
       " 15,\n",
       " 13,\n",
       " 1247,\n",
       " 4,\n",
       " 22,\n",
       " 17,\n",
       " 515,\n",
       " 17,\n",
       " 12,\n",
       " 16,\n",
       " 626,\n",
       " 18,\n",
       " 2,\n",
       " 5,\n",
       " 62,\n",
       " 386,\n",
       " 12,\n",
       " 8,\n",
       " 316,\n",
       " 8,\n",
       " 106,\n",
       " 5,\n",
       " 4,\n",
       " 2223,\n",
       " 5244,\n",
       " 16,\n",
       " 480,\n",
       " 66,\n",
       " 3785,\n",
       " 33,\n",
       " 4,\n",
       " 130,\n",
       " 12,\n",
       " 16,\n",
       " 38,\n",
       " 619,\n",
       " 5,\n",
       " 25,\n",
       " 124,\n",
       " 51,\n",
       " 36,\n",
       " 135,\n",
       " 48,\n",
       " 25,\n",
       " 1415,\n",
       " 33,\n",
       " 6,\n",
       " 22,\n",
       " 12,\n",
       " 215,\n",
       " 28,\n",
       " 77,\n",
       " 52,\n",
       " 5,\n",
       " 14,\n",
       " 407,\n",
       " 16,\n",
       " 82,\n",
       " 2,\n",
       " 8,\n",
       " 4,\n",
       " 107,\n",
       " 117,\n",
       " 5952,\n",
       " 15,\n",
       " 256,\n",
       " 4,\n",
       " 2,\n",
       " 7,\n",
       " 3766,\n",
       " 5,\n",
       " 723,\n",
       " 36,\n",
       " 71,\n",
       " 43,\n",
       " 530,\n",
       " 476,\n",
       " 26,\n",
       " 400,\n",
       " 317,\n",
       " 46,\n",
       " 7,\n",
       " 4,\n",
       " 2,\n",
       " 1029,\n",
       " 13,\n",
       " 104,\n",
       " 88,\n",
       " 4,\n",
       " 381,\n",
       " 15,\n",
       " 297,\n",
       " 98,\n",
       " 32,\n",
       " 2071,\n",
       " 56,\n",
       " 26,\n",
       " 141,\n",
       " 6,\n",
       " 194,\n",
       " 7486,\n",
       " 18,\n",
       " 4,\n",
       " 226,\n",
       " 22,\n",
       " 21,\n",
       " 134,\n",
       " 476,\n",
       " 26,\n",
       " 480,\n",
       " 5,\n",
       " 144,\n",
       " 30,\n",
       " 5535,\n",
       " 18,\n",
       " 51,\n",
       " 36,\n",
       " 28,\n",
       " 224,\n",
       " 92,\n",
       " 25,\n",
       " 104,\n",
       " 4,\n",
       " 226,\n",
       " 65,\n",
       " 16,\n",
       " 38,\n",
       " 1334,\n",
       " 88,\n",
       " 12,\n",
       " 16,\n",
       " 283,\n",
       " 5,\n",
       " 16,\n",
       " 4472,\n",
       " 113,\n",
       " 103,\n",
       " 32,\n",
       " 15,\n",
       " 16,\n",
       " 5345,\n",
       " 19,\n",
       " 178,\n",
       " 32]"
      ]
     },
     "execution_count": 5,
     "metadata": {},
     "output_type": "execute_result"
    }
   ],
   "source": [
    "train_data[0]"
   ]
  },
  {
   "cell_type": "code",
   "execution_count": 6,
   "metadata": {},
   "outputs": [
    {
     "data": {
      "text/plain": [
       "1"
      ]
     },
     "execution_count": 6,
     "metadata": {},
     "output_type": "execute_result"
    }
   ],
   "source": [
    "train_labels[0]"
   ]
  },
  {
   "cell_type": "code",
   "execution_count": 7,
   "metadata": {},
   "outputs": [
    {
     "data": {
      "text/plain": [
       "9999"
      ]
     },
     "execution_count": 7,
     "metadata": {},
     "output_type": "execute_result"
    }
   ],
   "source": [
    "max([max(sequence) for sequence in train_data])"
   ]
  },
  {
   "cell_type": "code",
   "execution_count": 8,
   "metadata": {},
   "outputs": [],
   "source": [
    "word_index = imdb.get_word_index()\n",
    "reverse_word_index = dict(\n",
    " [(value, key) for (key, value) in word_index.items()])\n",
    "decoded_review = \" \".join(\n",
    " [reverse_word_index.get(i - 3, \"?\") for i in train_data[0]])"
   ]
  },
  {
   "cell_type": "code",
   "execution_count": 9,
   "metadata": {},
   "outputs": [],
   "source": [
    "import numpy as np\n",
    "def vectorize_sequences(sequences, dimension=10000):\n",
    " results = np.zeros((len(sequences), dimension))\n",
    " for i, sequence in enumerate(sequences):\n",
    "    for j in sequence:\n",
    "        results[i, j] = 1.\n",
    " return results\n",
    "x_train = vectorize_sequences(train_data)\n",
    "x_test = vectorize_sequences(test_data)\n"
   ]
  },
  {
   "cell_type": "code",
   "execution_count": 10,
   "metadata": {},
   "outputs": [
    {
     "data": {
      "text/plain": [
       "array([0., 1., 1., ..., 0., 0., 0.])"
      ]
     },
     "execution_count": 10,
     "metadata": {},
     "output_type": "execute_result"
    }
   ],
   "source": [
    "x_train[0]"
   ]
  },
  {
   "cell_type": "code",
   "execution_count": 11,
   "metadata": {},
   "outputs": [],
   "source": [
    "y_train = np.asarray(train_labels).astype(\"float32\")\n",
    "y_test = np.asarray(test_labels).astype(\"float32\")"
   ]
  },
  {
   "cell_type": "code",
   "execution_count": 12,
   "metadata": {},
   "outputs": [],
   "source": [
    "from tensorflow import keras\n",
    "from tensorflow.keras import layers\n",
    "model = keras.Sequential([\n",
    " layers.Dense(16, activation=\"relu\"),\n",
    " layers.Dense(16, activation=\"relu\"),\n",
    " layers.Dense(1, activation=\"sigmoid\")\n",
    "])\n"
   ]
  },
  {
   "cell_type": "code",
   "execution_count": 13,
   "metadata": {},
   "outputs": [],
   "source": [
    "model.compile(optimizer=\"rmsprop\",\n",
    " loss=\"binary_crossentropy\",\n",
    " metrics=[\"accuracy\"])"
   ]
  },
  {
   "cell_type": "code",
   "execution_count": 14,
   "metadata": {},
   "outputs": [],
   "source": [
    "x_val = x_train[:10000]\n",
    "partial_x_train = x_train[10000:]\n",
    "y_val = y_train[:10000]\n",
    "partial_y_train = y_train[10000:]"
   ]
  },
  {
   "cell_type": "code",
   "execution_count": 15,
   "metadata": {},
   "outputs": [
    {
     "name": "stdout",
     "output_type": "stream",
     "text": [
      "Epoch 1/20\n",
      "30/30 [==============================] - 1s 22ms/step - loss: 0.5477 - accuracy: 0.7734 - val_loss: 0.4298 - val_accuracy: 0.8507\n",
      "Epoch 2/20\n",
      "30/30 [==============================] - 0s 6ms/step - loss: 0.3424 - accuracy: 0.8964 - val_loss: 0.3236 - val_accuracy: 0.8830\n",
      "Epoch 3/20\n",
      "30/30 [==============================] - 0s 6ms/step - loss: 0.2431 - accuracy: 0.9230 - val_loss: 0.2852 - val_accuracy: 0.8895\n",
      "Epoch 4/20\n",
      "30/30 [==============================] - 0s 6ms/step - loss: 0.1923 - accuracy: 0.9370 - val_loss: 0.2782 - val_accuracy: 0.8879\n",
      "Epoch 5/20\n",
      "30/30 [==============================] - 0s 6ms/step - loss: 0.1561 - accuracy: 0.9523 - val_loss: 0.2795 - val_accuracy: 0.8865\n",
      "Epoch 6/20\n",
      "30/30 [==============================] - 0s 7ms/step - loss: 0.1273 - accuracy: 0.9627 - val_loss: 0.2913 - val_accuracy: 0.8850\n",
      "Epoch 7/20\n",
      "30/30 [==============================] - 0s 7ms/step - loss: 0.1072 - accuracy: 0.9680 - val_loss: 0.3028 - val_accuracy: 0.8846\n",
      "Epoch 8/20\n",
      "30/30 [==============================] - 0s 6ms/step - loss: 0.0910 - accuracy: 0.9735 - val_loss: 0.3364 - val_accuracy: 0.8765\n",
      "Epoch 9/20\n",
      "30/30 [==============================] - 0s 7ms/step - loss: 0.0754 - accuracy: 0.9801 - val_loss: 0.3341 - val_accuracy: 0.8806\n",
      "Epoch 10/20\n",
      "30/30 [==============================] - 0s 6ms/step - loss: 0.0610 - accuracy: 0.9863 - val_loss: 0.4174 - val_accuracy: 0.8637\n",
      "Epoch 11/20\n",
      "30/30 [==============================] - 0s 7ms/step - loss: 0.0538 - accuracy: 0.9874 - val_loss: 0.3832 - val_accuracy: 0.8769\n",
      "Epoch 12/20\n",
      "30/30 [==============================] - 0s 6ms/step - loss: 0.0425 - accuracy: 0.9907 - val_loss: 0.4137 - val_accuracy: 0.8730\n",
      "Epoch 13/20\n",
      "30/30 [==============================] - 0s 6ms/step - loss: 0.0336 - accuracy: 0.9939 - val_loss: 0.4315 - val_accuracy: 0.8756\n",
      "Epoch 14/20\n",
      "30/30 [==============================] - 0s 6ms/step - loss: 0.0276 - accuracy: 0.9947 - val_loss: 0.4729 - val_accuracy: 0.8722\n",
      "Epoch 15/20\n",
      "30/30 [==============================] - 0s 6ms/step - loss: 0.0239 - accuracy: 0.9959 - val_loss: 0.4927 - val_accuracy: 0.8730\n",
      "Epoch 16/20\n",
      "30/30 [==============================] - 0s 6ms/step - loss: 0.0166 - accuracy: 0.9985 - val_loss: 0.5269 - val_accuracy: 0.8705\n",
      "Epoch 17/20\n",
      "30/30 [==============================] - 0s 7ms/step - loss: 0.0144 - accuracy: 0.9985 - val_loss: 0.5958 - val_accuracy: 0.8613\n",
      "Epoch 18/20\n",
      "30/30 [==============================] - 0s 6ms/step - loss: 0.0104 - accuracy: 0.9993 - val_loss: 0.6671 - val_accuracy: 0.8571\n",
      "Epoch 19/20\n",
      "30/30 [==============================] - 0s 6ms/step - loss: 0.0103 - accuracy: 0.9988 - val_loss: 0.6352 - val_accuracy: 0.8668\n",
      "Epoch 20/20\n",
      "30/30 [==============================] - 0s 6ms/step - loss: 0.0052 - accuracy: 0.9998 - val_loss: 0.6632 - val_accuracy: 0.8678\n"
     ]
    }
   ],
   "source": [
    "history = model.fit(partial_x_train,\n",
    " partial_y_train,\n",
    " epochs=20,\n",
    " batch_size=512,\n",
    " validation_data=(x_val, y_val))"
   ]
  },
  {
   "cell_type": "code",
   "execution_count": 16,
   "metadata": {},
   "outputs": [
    {
     "data": {
      "text/plain": [
       "['accuracy', 'loss', 'val_accuracy', 'val_loss']"
      ]
     },
     "execution_count": 16,
     "metadata": {},
     "output_type": "execute_result"
    }
   ],
   "source": [
    ">>> history_dict = history.history\n",
    ">>> history_dict.keys()\n",
    "[u\"accuracy\", u\"loss\", u\"val_accuracy\", u\"val_loss\"]"
   ]
  },
  {
   "cell_type": "code",
   "execution_count": 17,
   "metadata": {},
   "outputs": [
    {
     "data": {
      "image/png": "[encoded data removed]",
      "text/plain": [
       "<Figure size 640x480 with 1 Axes>"
      ]
     },
     "metadata": {},
     "output_type": "display_data"
    }
   ],
   "source": [
    "\n",
    "history_dict = history.history\n",
    "loss_values = history_dict[\"loss\"]\n",
    "val_loss_values = history_dict[\"val_loss\"]\n",
    "epochs = range(1, len(loss_values) + 1)\n",
    "plt.plot(epochs, loss_values, \"bo\", label=\"Training loss\")\n",
    "plt.plot(epochs, val_loss_values, \"b\", label=\"Validation loss\")\n",
    "plt.title(\"Training and validation loss\")\n",
    "plt.xlabel(\"Epochs\")\n",
    "plt.ylabel(\"Loss\")\n",
    "plt.legend()\n",
    "plt.show()"
   ]
  },
  {
   "cell_type": "code",
   "execution_count": 18,
   "metadata": {},
   "outputs": [
    {
     "data": {
      "image/png": "[encoded data removed]",
      "text/plain": [
       "<Figure size 640x480 with 1 Axes>"
      ]
     },
     "metadata": {},
     "output_type": "display_data"
    }
   ],
   "source": [
    "plt.clf()\n",
    "acc = history_dict[\"accuracy\"]\n",
    "val_acc = history_dict[\"val_accuracy\"]\n",
    "plt.plot(epochs, acc, \"bo\", label=\"Training acc\")\n",
    "plt.plot(epochs, val_acc, \"b\", label=\"Validation acc\")\n",
    "plt.title(\"Training and validation accuracy\")\n",
    "plt.xlabel(\"Epochs\")\n",
    "plt.ylabel(\"Accuracy\")\n",
    "plt.legend()\n",
    "plt.show()\n"
   ]
  },
  {
   "cell_type": "code",
   "execution_count": 21,
   "metadata": {},
   "outputs": [
    {
     "name": "stdout",
     "output_type": "stream",
     "text": [
      "Epoch 1/4\n",
      "49/49 [==============================] - 1s 4ms/step - loss: 0.4530 - accuracy: 0.8159\n",
      "Epoch 2/4\n",
      "49/49 [==============================] - 0s 4ms/step - loss: 0.2570 - accuracy: 0.9122\n",
      "Epoch 3/4\n",
      "49/49 [==============================] - 0s 4ms/step - loss: 0.1982 - accuracy: 0.9299\n",
      "Epoch 4/4\n",
      "49/49 [==============================] - 0s 4ms/step - loss: 0.1650 - accuracy: 0.9405\n",
      "782/782 [==============================] - 24s 31ms/step - loss: 0.3003 - accuracy: 0.8814\n"
     ]
    }
   ],
   "source": [
    "model = keras.Sequential([\n",
    " layers.Dense(16, activation=\"relu\"),\n",
    " layers.Dense(16, activation=\"relu\"),\n",
    " layers.Dense(1, activation=\"sigmoid\")\n",
    "])\n",
    "model.compile(optimizer=\"rmsprop\",\n",
    " loss=\"binary_crossentropy\",\n",
    " metrics=[\"accuracy\"])\n",
    "model.fit(x_train, y_train, epochs=4, batch_size=512)\n",
    "results = model.evaluate(x_test, y_test)"
   ]
  },
  {
   "cell_type": "code",
   "execution_count": 22,
   "metadata": {},
   "outputs": [
    {
     "name": "stdout",
     "output_type": "stream",
     "text": [
      "782/782 [==============================] - 26s 33ms/step\n"
     ]
    },
    {
     "data": {
      "text/plain": [
       "array([[0.1418328 ],\n",
       "       [0.9998828 ],\n",
       "       [0.88964593],\n",
       "       ...,\n",
       "       [0.11292436],\n",
       "       [0.05012858],\n",
       "       [0.5301112 ]], dtype=float32)"
      ]
     },
     "execution_count": 22,
     "metadata": {},
     "output_type": "execute_result"
    }
   ],
   "source": [
    "model.predict(x_test)"
   ]
  }
 ],
 "metadata": {
  "kernelspec": {
   "display_name": "block_c",
   "language": "python",
   "name": "python3"
  },
  "language_info": {
   "codemirror_mode": {
    "name": "ipython",
    "version": 3
   },
   "file_extension": ".py",
   "mimetype": "text/x-python",
   "name": "python",
   "nbconvert_exporter": "python",
   "pygments_lexer": "ipython3",
   "version": "3.10.13"
  }
 },
 "nbformat": 4,
 "nbformat_minor": 2
}
