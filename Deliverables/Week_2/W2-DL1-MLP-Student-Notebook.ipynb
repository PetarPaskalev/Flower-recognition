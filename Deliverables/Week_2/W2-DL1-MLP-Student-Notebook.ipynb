{
 "cells": [
  {
   "cell_type": "markdown",
   "metadata": {},
   "source": [
    "# Practical Assignment I: Multilayer Perceptrons"
   ]
  },
  {
   "cell_type": "markdown",
   "metadata": {},
   "source": [
    "Multilayer perceptron (MLP) is a fully connected, feedforward neural network architecture. It consists of one input layer, one or more hidden layers, and one output layer. Each layer consists of units (also called neurons, or nodes).\n",
    "\n",
    "Each unit is connected to every unit in a neighboring layer, hence fully connected. This is why in Keras these layers are called `Dense`. Information flows from left to right, hence feedforward.\n",
    "\n",
    "<img src=\"https://edirlei.com/images/nn1.png\" width=\"800\">"
   ]
  },
  {
   "cell_type": "markdown",
   "metadata": {},
   "source": [
    "**Learning objectives:**\n",
    "\n",
    "At the end of this DataLab, you will be able to build MLPs using Keras for the following problem types:\n",
    "\n",
    " - Regression\n",
    " - Binary classification\n",
    " - Multi-class classification\n",
    " - Multi-label classification\n",
    " \n",
    "For each type, you will be given a suitable dataset. Then you will:\n",
    "\n",
    " - Pre-process the data if needed\n",
    " - Create a `Sequential()` model\n",
    " - Compile the model by defining a loss function, an optimizer and the metrics to be calculated\n",
    " - Train the model using the `fit()` method\n",
    " - Test the model using the `predict()` and `evaluate()` methods\n",
    " \n",
    " \n",
    " **Notebook contents:**\n",
    " \n",
    " 1. Regression\n",
    " 2. Binary classification\n",
    " 3. Multi-class classification\n",
    " 4. Multi-label classification"
   ]
  },
  {
   "cell_type": "markdown",
   "metadata": {},
   "source": [
    "**Packages:**\n",
    "\n",
    "Let's start by importing the basic packages required for this DataLab:"
   ]
  },
  {
   "cell_type": "code",
   "execution_count": 6,
   "metadata": {},
   "outputs": [],
   "source": [
    "import pandas as pd\n",
    "import numpy as np\n",
    "import matplotlib.pyplot as plt\n",
    "from tensorflow.keras.models import Sequential\n",
    "from tensorflow.keras.layers import Dense"
   ]
  },
  {
   "cell_type": "markdown",
   "metadata": {},
   "source": [
    "## 1. Regression"
   ]
  },
  {
   "cell_type": "markdown",
   "metadata": {},
   "source": [
    "The goal of a regression task is to predict a continuous outcome variable (dependent variable) based on one or more predictor variables (independent variables).\n",
    "\n",
    "**The dataset**\n",
    "\n",
    "In this task, you will use the diabetes dataset provided by `scikit-learn`.\n",
    "\n",
    "Please read the dataset documentation before you start:\n",
    "\n",
    "https://scikit-learn.org/stable/datasets/toy_dataset.html#diabetes-dataset\n",
    "\n",
    "Now let's load the data and display some samples from the dataset:"
   ]
  },
  {
   "cell_type": "code",
   "execution_count": 2,
   "metadata": {},
   "outputs": [
    {
     "data": {
      "text/html": [
       "<div>\n",
       "<style scoped>\n",
       "    .dataframe tbody tr th:only-of-type {\n",
       "        vertical-align: middle;\n",
       "    }\n",
       "\n",
       "    .dataframe tbody tr th {\n",
       "        vertical-align: top;\n",
       "    }\n",
       "\n",
       "    .dataframe thead th {\n",
       "        text-align: right;\n",
       "    }\n",
       "</style>\n",
       "<table border=\"1\" class=\"dataframe\">\n",
       "  <thead>\n",
       "    <tr style=\"text-align: right;\">\n",
       "      <th></th>\n",
       "      <th>age</th>\n",
       "      <th>sex</th>\n",
       "      <th>bmi</th>\n",
       "      <th>bp</th>\n",
       "      <th>s1</th>\n",
       "      <th>s2</th>\n",
       "      <th>s3</th>\n",
       "      <th>s4</th>\n",
       "      <th>s5</th>\n",
       "      <th>s6</th>\n",
       "      <th>disease progression</th>\n",
       "    </tr>\n",
       "  </thead>\n",
       "  <tbody>\n",
       "    <tr>\n",
       "      <th>0</th>\n",
       "      <td>0.038076</td>\n",
       "      <td>0.050680</td>\n",
       "      <td>0.061696</td>\n",
       "      <td>0.021872</td>\n",
       "      <td>-0.044223</td>\n",
       "      <td>-0.034821</td>\n",
       "      <td>-0.043401</td>\n",
       "      <td>-0.002592</td>\n",
       "      <td>0.019907</td>\n",
       "      <td>-0.017646</td>\n",
       "      <td>151.0</td>\n",
       "    </tr>\n",
       "    <tr>\n",
       "      <th>1</th>\n",
       "      <td>-0.001882</td>\n",
       "      <td>-0.044642</td>\n",
       "      <td>-0.051474</td>\n",
       "      <td>-0.026328</td>\n",
       "      <td>-0.008449</td>\n",
       "      <td>-0.019163</td>\n",
       "      <td>0.074412</td>\n",
       "      <td>-0.039493</td>\n",
       "      <td>-0.068332</td>\n",
       "      <td>-0.092204</td>\n",
       "      <td>75.0</td>\n",
       "    </tr>\n",
       "    <tr>\n",
       "      <th>2</th>\n",
       "      <td>0.085299</td>\n",
       "      <td>0.050680</td>\n",
       "      <td>0.044451</td>\n",
       "      <td>-0.005670</td>\n",
       "      <td>-0.045599</td>\n",
       "      <td>-0.034194</td>\n",
       "      <td>-0.032356</td>\n",
       "      <td>-0.002592</td>\n",
       "      <td>0.002861</td>\n",
       "      <td>-0.025930</td>\n",
       "      <td>141.0</td>\n",
       "    </tr>\n",
       "    <tr>\n",
       "      <th>3</th>\n",
       "      <td>-0.089063</td>\n",
       "      <td>-0.044642</td>\n",
       "      <td>-0.011595</td>\n",
       "      <td>-0.036656</td>\n",
       "      <td>0.012191</td>\n",
       "      <td>0.024991</td>\n",
       "      <td>-0.036038</td>\n",
       "      <td>0.034309</td>\n",
       "      <td>0.022688</td>\n",
       "      <td>-0.009362</td>\n",
       "      <td>206.0</td>\n",
       "    </tr>\n",
       "    <tr>\n",
       "      <th>4</th>\n",
       "      <td>0.005383</td>\n",
       "      <td>-0.044642</td>\n",
       "      <td>-0.036385</td>\n",
       "      <td>0.021872</td>\n",
       "      <td>0.003935</td>\n",
       "      <td>0.015596</td>\n",
       "      <td>0.008142</td>\n",
       "      <td>-0.002592</td>\n",
       "      <td>-0.031988</td>\n",
       "      <td>-0.046641</td>\n",
       "      <td>135.0</td>\n",
       "    </tr>\n",
       "  </tbody>\n",
       "</table>\n",
       "</div>"
      ],
      "text/plain": [
       "        age       sex       bmi        bp        s1        s2        s3  \\\n",
       "0  0.038076  0.050680  0.061696  0.021872 -0.044223 -0.034821 -0.043401   \n",
       "1 -0.001882 -0.044642 -0.051474 -0.026328 -0.008449 -0.019163  0.074412   \n",
       "2  0.085299  0.050680  0.044451 -0.005670 -0.045599 -0.034194 -0.032356   \n",
       "3 -0.089063 -0.044642 -0.011595 -0.036656  0.012191  0.024991 -0.036038   \n",
       "4  0.005383 -0.044642 -0.036385  0.021872  0.003935  0.015596  0.008142   \n",
       "\n",
       "         s4        s5        s6  disease progression  \n",
       "0 -0.002592  0.019907 -0.017646                151.0  \n",
       "1 -0.039493 -0.068332 -0.092204                 75.0  \n",
       "2 -0.002592  0.002861 -0.025930                141.0  \n",
       "3  0.034309  0.022688 -0.009362                206.0  \n",
       "4 -0.002592 -0.031988 -0.046641                135.0  "
      ]
     },
     "execution_count": 2,
     "metadata": {},
     "output_type": "execute_result"
    }
   ],
   "source": [
    "from sklearn import datasets\n",
    "diabetes = datasets.load_diabetes()\n",
    "X = diabetes.data\n",
    "y = diabetes.target\n",
    "names = diabetes.feature_names\n",
    "Xy_combined = np.concatenate((X, y[:, np.newaxis]), axis=1)\n",
    "df = pd.DataFrame(Xy_combined,\n",
    "                  columns=names + ['disease progression'])\n",
    "df.head()"
   ]
  },
  {
   "cell_type": "markdown",
   "metadata": {},
   "source": [
    "Let's split the dataset into a training set and a testing set using function ``train_test_split``:"
   ]
  },
  {
   "cell_type": "code",
   "execution_count": 3,
   "metadata": {},
   "outputs": [],
   "source": [
    "from sklearn.model_selection import train_test_split\n",
    "X_train, X_test, y_train, y_test = train_test_split(X,\n",
    "                                                    y,\n",
    "                                                    test_size=0.33,\n",
    "                                                    random_state=0)"
   ]
  },
  {
   "cell_type": "markdown",
   "metadata": {},
   "source": [
    "Now we can visualize the dimensions of the sets:"
   ]
  },
  {
   "cell_type": "code",
   "execution_count": 4,
   "metadata": {},
   "outputs": [
    {
     "data": {
      "text/plain": [
       "((296, 10), (146, 10), (296,), (146,))"
      ]
     },
     "execution_count": 4,
     "metadata": {},
     "output_type": "execute_result"
    }
   ],
   "source": [
    "X_train.shape, X_test.shape, y_train.shape, y_test.shape"
   ]
  },
  {
   "cell_type": "markdown",
   "metadata": {},
   "source": [
    "**Task 1.1**\n",
    "Build an MLP suitable for the diabetes dataset. Use a `Sequential()` model and `Dense` layers from Keras. You are free to pick any number of hidden layers and any number of units per layer as long as it works.  Use suitable activation functions."
   ]
  },
  {
   "cell_type": "code",
   "execution_count": 8,
   "metadata": {},
   "outputs": [
    {
     "name": "stdout",
     "output_type": "stream",
     "text": [
      "Model: \"sequential_1\"\n",
      "_________________________________________________________________\n",
      " Layer (type)                Output Shape              Param #   \n",
      "=================================================================\n",
      " dense_4 (Dense)             (None, 64)                704       \n",
      "                                                                 \n",
      " dense_5 (Dense)             (None, 32)                2080      \n",
      "                                                                 \n"
     ]
    },
    {
     "name": "stdout",
     "output_type": "stream",
     "text": [
      " dense_6 (Dense)             (None, 16)                528       \n",
      "                                                                 \n",
      " dense_7 (Dense)             (None, 1)                 17        \n",
      "                                                                 \n",
      "=================================================================\n",
      "Total params: 3,329\n",
      "Trainable params: 3,329\n",
      "Non-trainable params: 0\n",
      "_________________________________________________________________\n"
     ]
    }
   ],
   "source": [
    "\n",
    "\n",
    "# Define the model\n",
    "model = Sequential()\n",
    "\n",
    "# Add input layer\n",
    "model.add(Dense(64, input_dim=X_train.shape[1], activation='relu'))\n",
    "\n",
    "# Add hidden layers\n",
    "model.add(Dense(32, activation='relu'))\n",
    "model.add(Dense(16, activation='relu'))\n",
    "\n",
    "# Add output layer\n",
    "model.add(Dense(1, activation='linear'))\n",
    "\n",
    "# Print the model summary\n",
    "model.summary()"
   ]
  },
  {
   "cell_type": "markdown",
   "metadata": {},
   "source": [
    "**Task 1.2**\n",
    "Using `model.compile()`, compile the model. Select a suitable optimizer and a suitable loss function. Also include a metric or metrics."
   ]
  },
  {
   "cell_type": "code",
   "execution_count": 9,
   "metadata": {},
   "outputs": [],
   "source": [
    "# Compile the model\n",
    "model.compile(loss='mean_squared_error', optimizer='adam')\n"
   ]
  },
  {
   "cell_type": "markdown",
   "metadata": {},
   "source": [
    "**Task 1.3** Using `model.fit()` Train the model on X_train, y_train and use X_test, y_test as validation data. Pick a suitable number of epochs and batch size."
   ]
  },
  {
   "cell_type": "code",
   "execution_count": 10,
   "metadata": {},
   "outputs": [
    {
     "name": "stdout",
     "output_type": "stream",
     "text": [
      "Epoch 1/100\n",
      "10/10 [==============================] - 1s 22ms/step - loss: 29127.4219 - val_loss: 28930.2266\n",
      "Epoch 2/100\n",
      "10/10 [==============================] - 0s 5ms/step - loss: 29099.0820 - val_loss: 28895.5215\n",
      "Epoch 3/100\n",
      "10/10 [==============================] - 0s 4ms/step - loss: 29058.1055 - val_loss: 28843.2676\n",
      "Epoch 4/100\n",
      "10/10 [==============================] - 0s 4ms/step - loss: 28996.1816 - val_loss: 28762.0410\n",
      "Epoch 5/100\n",
      "10/10 [==============================] - 0s 4ms/step - loss: 28898.7500 - val_loss: 28628.6719\n",
      "Epoch 6/100\n",
      "10/10 [==============================] - 0s 4ms/step - loss: 28733.2305 - val_loss: 28409.9629\n",
      "Epoch 7/100\n",
      "10/10 [==============================] - 0s 4ms/step - loss: 28471.6523 - val_loss: 28060.8691\n",
      "Epoch 8/100\n",
      "10/10 [==============================] - 0s 4ms/step - loss: 28052.3086 - val_loss: 27524.4766\n",
      "Epoch 9/100\n",
      "10/10 [==============================] - 0s 4ms/step - loss: 27423.6230 - val_loss: 26717.6680\n",
      "Epoch 10/100\n",
      "10/10 [==============================] - 0s 4ms/step - loss: 26481.7949 - val_loss: 25576.6445\n",
      "Epoch 11/100\n",
      "10/10 [==============================] - 0s 4ms/step - loss: 25184.8730 - val_loss: 24018.6543\n",
      "Epoch 12/100\n",
      "10/10 [==============================] - 0s 4ms/step - loss: 23446.5547 - val_loss: 22001.7246\n",
      "Epoch 13/100\n",
      "10/10 [==============================] - 0s 5ms/step - loss: 21250.3184 - val_loss: 19484.3711\n",
      "Epoch 14/100\n",
      "10/10 [==============================] - 0s 4ms/step - loss: 18601.0938 - val_loss: 16536.8535\n",
      "Epoch 15/100\n",
      "10/10 [==============================] - 0s 4ms/step - loss: 15561.9219 - val_loss: 13387.1201\n",
      "Epoch 16/100\n",
      "10/10 [==============================] - 0s 4ms/step - loss: 12422.9062 - val_loss: 10244.8125\n",
      "Epoch 17/100\n",
      "10/10 [==============================] - 0s 5ms/step - loss: 9436.6787 - val_loss: 7497.0205\n",
      "Epoch 18/100\n",
      "10/10 [==============================] - 0s 4ms/step - loss: 7028.6763 - val_loss: 5465.2764\n",
      "Epoch 19/100\n",
      "10/10 [==============================] - 0s 4ms/step - loss: 5276.6553 - val_loss: 4329.3730\n",
      "Epoch 20/100\n",
      "10/10 [==============================] - 0s 4ms/step - loss: 4489.1104 - val_loss: 3866.9033\n",
      "Epoch 21/100\n",
      "10/10 [==============================] - 0s 4ms/step - loss: 4160.7622 - val_loss: 3744.0598\n",
      "Epoch 22/100\n",
      "10/10 [==============================] - 0s 4ms/step - loss: 4112.5010 - val_loss: 3710.7791\n",
      "Epoch 23/100\n",
      "10/10 [==============================] - 0s 4ms/step - loss: 4045.2036 - val_loss: 3657.0527\n",
      "Epoch 24/100\n",
      "10/10 [==============================] - 0s 4ms/step - loss: 3967.4387 - val_loss: 3607.3279\n",
      "Epoch 25/100\n",
      "10/10 [==============================] - 0s 4ms/step - loss: 3908.2361 - val_loss: 3569.2537\n",
      "Epoch 26/100\n",
      "10/10 [==============================] - 0s 4ms/step - loss: 3857.2854 - val_loss: 3533.3560\n",
      "Epoch 27/100\n",
      "10/10 [==============================] - 0s 4ms/step - loss: 3814.6956 - val_loss: 3508.2908\n",
      "Epoch 28/100\n",
      "10/10 [==============================] - 0s 4ms/step - loss: 3765.4387 - val_loss: 3471.2283\n",
      "Epoch 29/100\n",
      "10/10 [==============================] - 0s 4ms/step - loss: 3722.5972 - val_loss: 3438.0312\n",
      "Epoch 30/100\n",
      "10/10 [==============================] - 0s 4ms/step - loss: 3673.6926 - val_loss: 3410.3794\n",
      "Epoch 31/100\n",
      "10/10 [==============================] - 0s 4ms/step - loss: 3633.3928 - val_loss: 3385.1995\n",
      "Epoch 32/100\n",
      "10/10 [==============================] - 0s 4ms/step - loss: 3596.9207 - val_loss: 3362.6677\n",
      "Epoch 33/100\n",
      "10/10 [==============================] - 0s 4ms/step - loss: 3562.4028 - val_loss: 3340.8611\n",
      "Epoch 34/100\n",
      "10/10 [==============================] - 0s 4ms/step - loss: 3530.4541 - val_loss: 3317.5615\n",
      "Epoch 35/100\n",
      "10/10 [==============================] - 0s 4ms/step - loss: 3504.9675 - val_loss: 3304.7097\n",
      "Epoch 36/100\n",
      "10/10 [==============================] - 0s 4ms/step - loss: 3475.8396 - val_loss: 3284.0408\n",
      "Epoch 37/100\n",
      "10/10 [==============================] - 0s 4ms/step - loss: 3444.3745 - val_loss: 3264.1099\n",
      "Epoch 38/100\n",
      "10/10 [==============================] - 0s 5ms/step - loss: 3416.4106 - val_loss: 3245.9646\n",
      "Epoch 39/100\n",
      "10/10 [==============================] - 0s 4ms/step - loss: 3385.5728 - val_loss: 3225.9707\n",
      "Epoch 40/100\n",
      "10/10 [==============================] - 0s 4ms/step - loss: 3369.8623 - val_loss: 3211.9290\n",
      "Epoch 41/100\n",
      "10/10 [==============================] - 0s 4ms/step - loss: 3338.4814 - val_loss: 3194.7944\n",
      "Epoch 42/100\n",
      "10/10 [==============================] - 0s 4ms/step - loss: 3308.3445 - val_loss: 3179.7837\n",
      "Epoch 43/100\n",
      "10/10 [==============================] - 0s 4ms/step - loss: 3283.9126 - val_loss: 3168.5652\n",
      "Epoch 44/100\n",
      "10/10 [==============================] - 0s 4ms/step - loss: 3262.0352 - val_loss: 3154.1785\n",
      "Epoch 45/100\n",
      "10/10 [==============================] - 0s 4ms/step - loss: 3238.8423 - val_loss: 3142.4058\n",
      "Epoch 46/100\n",
      "10/10 [==============================] - 0s 4ms/step - loss: 3218.3198 - val_loss: 3131.6206\n",
      "Epoch 47/100\n",
      "10/10 [==============================] - 0s 4ms/step - loss: 3200.3555 - val_loss: 3121.4773\n",
      "Epoch 48/100\n",
      "10/10 [==============================] - 0s 5ms/step - loss: 3182.9382 - val_loss: 3111.5676\n",
      "Epoch 49/100\n",
      "10/10 [==============================] - 0s 4ms/step - loss: 3162.3127 - val_loss: 3103.3411\n",
      "Epoch 50/100\n",
      "10/10 [==============================] - 0s 4ms/step - loss: 3159.3242 - val_loss: 3097.3857\n",
      "Epoch 51/100\n",
      "10/10 [==============================] - 0s 4ms/step - loss: 3143.0505 - val_loss: 3087.9084\n",
      "Epoch 52/100\n",
      "10/10 [==============================] - 0s 4ms/step - loss: 3111.2954 - val_loss: 3079.8818\n",
      "Epoch 53/100\n",
      "10/10 [==============================] - 0s 4ms/step - loss: 3096.4036 - val_loss: 3070.0208\n",
      "Epoch 54/100\n",
      "10/10 [==============================] - 0s 4ms/step - loss: 3075.8848 - val_loss: 3064.9885\n",
      "Epoch 55/100\n",
      "10/10 [==============================] - 0s 4ms/step - loss: 3065.4817 - val_loss: 3059.0398\n",
      "Epoch 56/100\n",
      "10/10 [==============================] - 0s 4ms/step - loss: 3049.8494 - val_loss: 3052.9187\n",
      "Epoch 57/100\n",
      "10/10 [==============================] - 0s 4ms/step - loss: 3036.3013 - val_loss: 3048.4597\n",
      "Epoch 58/100\n",
      "10/10 [==============================] - 0s 4ms/step - loss: 3022.3918 - val_loss: 3045.1995\n",
      "Epoch 59/100\n",
      "10/10 [==============================] - 0s 4ms/step - loss: 3010.8398 - val_loss: 3040.5222\n",
      "Epoch 60/100\n",
      "10/10 [==============================] - 0s 4ms/step - loss: 3005.7920 - val_loss: 3036.4458\n",
      "Epoch 61/100\n",
      "10/10 [==============================] - 0s 4ms/step - loss: 2987.9294 - val_loss: 3032.8157\n",
      "Epoch 62/100\n",
      "10/10 [==============================] - 0s 4ms/step - loss: 2978.9321 - val_loss: 3029.1060\n",
      "Epoch 63/100\n",
      "10/10 [==============================] - 0s 4ms/step - loss: 2963.2217 - val_loss: 3028.3625\n",
      "Epoch 64/100\n",
      "10/10 [==============================] - 0s 4ms/step - loss: 2958.0078 - val_loss: 3026.6042\n",
      "Epoch 65/100\n",
      "10/10 [==============================] - 0s 4ms/step - loss: 2938.6614 - val_loss: 3021.2959\n",
      "Epoch 66/100\n",
      "10/10 [==============================] - 0s 4ms/step - loss: 2942.2637 - val_loss: 3023.5085\n",
      "Epoch 67/100\n",
      "10/10 [==============================] - 0s 4ms/step - loss: 2928.9504 - val_loss: 3020.2585\n",
      "Epoch 68/100\n",
      "10/10 [==============================] - 0s 4ms/step - loss: 2919.9048 - val_loss: 3020.2388\n",
      "Epoch 69/100\n",
      "10/10 [==============================] - 0s 4ms/step - loss: 2907.6477 - val_loss: 3019.7402\n",
      "Epoch 70/100\n",
      "10/10 [==============================] - 0s 4ms/step - loss: 2902.3669 - val_loss: 3020.8914\n",
      "Epoch 71/100\n",
      "10/10 [==============================] - 0s 4ms/step - loss: 2899.5061 - val_loss: 3020.2661\n",
      "Epoch 72/100\n",
      "10/10 [==============================] - 0s 4ms/step - loss: 2892.5530 - val_loss: 3023.1384\n",
      "Epoch 73/100\n",
      "10/10 [==============================] - 0s 4ms/step - loss: 2886.2908 - val_loss: 3025.8860\n",
      "Epoch 74/100\n",
      "10/10 [==============================] - 0s 4ms/step - loss: 2876.6794 - val_loss: 3024.5447\n",
      "Epoch 75/100\n",
      "10/10 [==============================] - 0s 4ms/step - loss: 2874.1460 - val_loss: 3028.7646\n",
      "Epoch 76/100\n",
      "10/10 [==============================] - 0s 4ms/step - loss: 2866.4727 - val_loss: 3028.6125\n",
      "Epoch 77/100\n",
      "10/10 [==============================] - 0s 4ms/step - loss: 2863.1536 - val_loss: 3031.9983\n",
      "Epoch 78/100\n",
      "10/10 [==============================] - 0s 4ms/step - loss: 2859.5908 - val_loss: 3033.7942\n",
      "Epoch 79/100\n",
      "10/10 [==============================] - 0s 4ms/step - loss: 2851.7937 - val_loss: 3030.3391\n",
      "Epoch 80/100\n",
      "10/10 [==============================] - 0s 4ms/step - loss: 2854.4209 - val_loss: 3032.3215\n",
      "Epoch 81/100\n",
      "10/10 [==============================] - 0s 4ms/step - loss: 2856.3574 - val_loss: 3035.0044\n",
      "Epoch 82/100\n",
      "10/10 [==============================] - 0s 4ms/step - loss: 2839.6782 - val_loss: 3035.5088\n",
      "Epoch 83/100\n",
      "10/10 [==============================] - 0s 4ms/step - loss: 2839.7275 - val_loss: 3038.2317\n",
      "Epoch 84/100\n",
      "10/10 [==============================] - 0s 4ms/step - loss: 2842.0303 - val_loss: 3035.1592\n",
      "Epoch 85/100\n",
      "10/10 [==============================] - 0s 4ms/step - loss: 2837.0903 - val_loss: 3037.2368\n",
      "Epoch 86/100\n",
      "10/10 [==============================] - 0s 5ms/step - loss: 2829.6868 - val_loss: 3036.8291\n",
      "Epoch 87/100\n",
      "10/10 [==============================] - 0s 4ms/step - loss: 2828.8286 - val_loss: 3036.9417\n",
      "Epoch 88/100\n",
      "10/10 [==============================] - 0s 4ms/step - loss: 2825.7483 - val_loss: 3038.1655\n",
      "Epoch 89/100\n",
      "10/10 [==============================] - 0s 4ms/step - loss: 2826.1077 - val_loss: 3040.8018\n",
      "Epoch 90/100\n",
      "10/10 [==============================] - 0s 4ms/step - loss: 2819.1807 - val_loss: 3042.5303\n",
      "Epoch 91/100\n",
      "10/10 [==============================] - 0s 4ms/step - loss: 2820.0835 - val_loss: 3043.8354\n",
      "Epoch 92/100\n",
      "10/10 [==============================] - 0s 4ms/step - loss: 2816.9446 - val_loss: 3046.9021\n",
      "Epoch 93/100\n",
      "10/10 [==============================] - 0s 4ms/step - loss: 2813.4695 - val_loss: 3050.6880\n",
      "Epoch 94/100\n",
      "10/10 [==============================] - 0s 4ms/step - loss: 2821.0259 - val_loss: 3065.9060\n",
      "Epoch 95/100\n",
      "10/10 [==============================] - 0s 4ms/step - loss: 2815.0867 - val_loss: 3052.8203\n",
      "Epoch 96/100\n",
      "10/10 [==============================] - 0s 4ms/step - loss: 2811.7649 - val_loss: 3053.8840\n",
      "Epoch 97/100\n",
      "10/10 [==============================] - 0s 4ms/step - loss: 2806.8196 - val_loss: 3059.6243\n",
      "Epoch 98/100\n",
      "10/10 [==============================] - 0s 4ms/step - loss: 2804.8379 - val_loss: 3061.1387\n",
      "Epoch 99/100\n",
      "10/10 [==============================] - 0s 5ms/step - loss: 2813.1116 - val_loss: 3062.6814\n",
      "Epoch 100/100\n",
      "10/10 [==============================] - 0s 4ms/step - loss: 2796.3210 - val_loss: 3069.9998\n"
     ]
    }
   ],
   "source": [
    "# Train the model\n",
    "history = model.fit(X_train, y_train, \n",
    "                    epochs=100, \n",
    "                    batch_size=32, \n",
    "                    validation_data=(X_test, y_test))\n"
   ]
  },
  {
   "cell_type": "markdown",
   "metadata": {},
   "source": [
    "**Task 1.4** Evaluate the model using `model.evaluate()`."
   ]
  },
  {
   "cell_type": "code",
   "execution_count": 12,
   "metadata": {},
   "outputs": [
    {
     "name": "stdout",
     "output_type": "stream",
     "text": [
      "5/5 [==============================] - 0s 1ms/step - loss: 3069.9998\n",
      "Loss: 3069.999755859375\n"
     ]
    }
   ],
   "source": [
    "loss = model.evaluate(X_test, y_test)\n",
    "print(\"Loss:\", loss)"
   ]
  },
  {
   "cell_type": "markdown",
   "metadata": {},
   "source": [
    "**Task 1.5** Get predictions on `X_test`. Plot `y_test` vs. predictions. On the same plot, plot a $x = y$ line. Think about what this line represents."
   ]
  },
  {
   "cell_type": "code",
   "execution_count": 13,
   "metadata": {},
   "outputs": [
    {
     "name": "stdout",
     "output_type": "stream",
     "text": [
      "5/5 [==============================] - 0s 1ms/step\n"
     ]
    },
    {
     "data": {
      "image/png": "[encoded data removed]",
      "text/plain": [
       "<Figure size 640x480 with 1 Axes>"
      ]
     },
     "metadata": {},
     "output_type": "display_data"
    }
   ],
   "source": [
    "# Get predictions on X_test\n",
    "predictions = model.predict(X_test)\n",
    "\n",
    "# Plot y_test vs. predictions\n",
    "plt.scatter(y_test, predictions)\n",
    "plt.plot([y_test.min(), y_test.max()], [y_test.min(), y_test.max()], 'k--', lw=2)  # Plotting the x=y line\n",
    "plt.xlabel('True Values')\n",
    "plt.ylabel('Predictions')\n",
    "plt.title('True Values vs. Predictions')\n",
    "plt.show()\n"
   ]
  },
  {
   "cell_type": "markdown",
   "metadata": {},
   "source": [
    "## 2. Binary Classification"
   ]
  },
  {
   "cell_type": "markdown",
   "metadata": {},
   "source": [
    "Binary classification is a type of classification where a model is trained to categorize data points into one of two categories. \n",
    "\n",
    "**The dataset**\n",
    "\n",
    "In this task, you will use the breast cancer dataset provided by `scikit-learn`.\n",
    "\n",
    "Please read the dataset documentation before you start:\n",
    "\n",
    "https://scikit-learn.org/stable/datasets/toy_dataset.html#breast-cancer-dataset\n",
    "\n",
    "Now let's load the data and display some samples from the dataset:"
   ]
  },
  {
   "cell_type": "code",
   "execution_count": 14,
   "metadata": {},
   "outputs": [
    {
     "data": {
      "text/html": [
       "<div>\n",
       "<style scoped>\n",
       "    .dataframe tbody tr th:only-of-type {\n",
       "        vertical-align: middle;\n",
       "    }\n",
       "\n",
       "    .dataframe tbody tr th {\n",
       "        vertical-align: top;\n",
       "    }\n",
       "\n",
       "    .dataframe thead th {\n",
       "        text-align: right;\n",
       "    }\n",
       "</style>\n",
       "<table border=\"1\" class=\"dataframe\">\n",
       "  <thead>\n",
       "    <tr style=\"text-align: right;\">\n",
       "      <th></th>\n",
       "      <th>mean radius</th>\n",
       "      <th>mean texture</th>\n",
       "      <th>mean perimeter</th>\n",
       "      <th>mean area</th>\n",
       "      <th>mean smoothness</th>\n",
       "      <th>mean compactness</th>\n",
       "      <th>mean concavity</th>\n",
       "      <th>mean concave points</th>\n",
       "      <th>mean symmetry</th>\n",
       "      <th>mean fractal dimension</th>\n",
       "      <th>...</th>\n",
       "      <th>worst texture</th>\n",
       "      <th>worst perimeter</th>\n",
       "      <th>worst area</th>\n",
       "      <th>worst smoothness</th>\n",
       "      <th>worst compactness</th>\n",
       "      <th>worst concavity</th>\n",
       "      <th>worst concave points</th>\n",
       "      <th>worst symmetry</th>\n",
       "      <th>worst fractal dimension</th>\n",
       "      <th>Benign</th>\n",
       "    </tr>\n",
       "  </thead>\n",
       "  <tbody>\n",
       "    <tr>\n",
       "      <th>0</th>\n",
       "      <td>17.99</td>\n",
       "      <td>10.38</td>\n",
       "      <td>122.80</td>\n",
       "      <td>1001.0</td>\n",
       "      <td>0.11840</td>\n",
       "      <td>0.27760</td>\n",
       "      <td>0.3001</td>\n",
       "      <td>0.14710</td>\n",
       "      <td>0.2419</td>\n",
       "      <td>0.07871</td>\n",
       "      <td>...</td>\n",
       "      <td>17.33</td>\n",
       "      <td>184.60</td>\n",
       "      <td>2019.0</td>\n",
       "      <td>0.1622</td>\n",
       "      <td>0.6656</td>\n",
       "      <td>0.7119</td>\n",
       "      <td>0.2654</td>\n",
       "      <td>0.4601</td>\n",
       "      <td>0.11890</td>\n",
       "      <td>0.0</td>\n",
       "    </tr>\n",
       "    <tr>\n",
       "      <th>1</th>\n",
       "      <td>20.57</td>\n",
       "      <td>17.77</td>\n",
       "      <td>132.90</td>\n",
       "      <td>1326.0</td>\n",
       "      <td>0.08474</td>\n",
       "      <td>0.07864</td>\n",
       "      <td>0.0869</td>\n",
       "      <td>0.07017</td>\n",
       "      <td>0.1812</td>\n",
       "      <td>0.05667</td>\n",
       "      <td>...</td>\n",
       "      <td>23.41</td>\n",
       "      <td>158.80</td>\n",
       "      <td>1956.0</td>\n",
       "      <td>0.1238</td>\n",
       "      <td>0.1866</td>\n",
       "      <td>0.2416</td>\n",
       "      <td>0.1860</td>\n",
       "      <td>0.2750</td>\n",
       "      <td>0.08902</td>\n",
       "      <td>0.0</td>\n",
       "    </tr>\n",
       "    <tr>\n",
       "      <th>2</th>\n",
       "      <td>19.69</td>\n",
       "      <td>21.25</td>\n",
       "      <td>130.00</td>\n",
       "      <td>1203.0</td>\n",
       "      <td>0.10960</td>\n",
       "      <td>0.15990</td>\n",
       "      <td>0.1974</td>\n",
       "      <td>0.12790</td>\n",
       "      <td>0.2069</td>\n",
       "      <td>0.05999</td>\n",
       "      <td>...</td>\n",
       "      <td>25.53</td>\n",
       "      <td>152.50</td>\n",
       "      <td>1709.0</td>\n",
       "      <td>0.1444</td>\n",
       "      <td>0.4245</td>\n",
       "      <td>0.4504</td>\n",
       "      <td>0.2430</td>\n",
       "      <td>0.3613</td>\n",
       "      <td>0.08758</td>\n",
       "      <td>0.0</td>\n",
       "    </tr>\n",
       "    <tr>\n",
       "      <th>3</th>\n",
       "      <td>11.42</td>\n",
       "      <td>20.38</td>\n",
       "      <td>77.58</td>\n",
       "      <td>386.1</td>\n",
       "      <td>0.14250</td>\n",
       "      <td>0.28390</td>\n",
       "      <td>0.2414</td>\n",
       "      <td>0.10520</td>\n",
       "      <td>0.2597</td>\n",
       "      <td>0.09744</td>\n",
       "      <td>...</td>\n",
       "      <td>26.50</td>\n",
       "      <td>98.87</td>\n",
       "      <td>567.7</td>\n",
       "      <td>0.2098</td>\n",
       "      <td>0.8663</td>\n",
       "      <td>0.6869</td>\n",
       "      <td>0.2575</td>\n",
       "      <td>0.6638</td>\n",
       "      <td>0.17300</td>\n",
       "      <td>0.0</td>\n",
       "    </tr>\n",
       "    <tr>\n",
       "      <th>4</th>\n",
       "      <td>20.29</td>\n",
       "      <td>14.34</td>\n",
       "      <td>135.10</td>\n",
       "      <td>1297.0</td>\n",
       "      <td>0.10030</td>\n",
       "      <td>0.13280</td>\n",
       "      <td>0.1980</td>\n",
       "      <td>0.10430</td>\n",
       "      <td>0.1809</td>\n",
       "      <td>0.05883</td>\n",
       "      <td>...</td>\n",
       "      <td>16.67</td>\n",
       "      <td>152.20</td>\n",
       "      <td>1575.0</td>\n",
       "      <td>0.1374</td>\n",
       "      <td>0.2050</td>\n",
       "      <td>0.4000</td>\n",
       "      <td>0.1625</td>\n",
       "      <td>0.2364</td>\n",
       "      <td>0.07678</td>\n",
       "      <td>0.0</td>\n",
       "    </tr>\n",
       "  </tbody>\n",
       "</table>\n",
       "<p>5 rows × 31 columns</p>\n",
       "</div>"
      ],
      "text/plain": [
       "   mean radius  mean texture  mean perimeter  mean area  mean smoothness  \\\n",
       "0        17.99         10.38          122.80     1001.0          0.11840   \n",
       "1        20.57         17.77          132.90     1326.0          0.08474   \n",
       "2        19.69         21.25          130.00     1203.0          0.10960   \n",
       "3        11.42         20.38           77.58      386.1          0.14250   \n",
       "4        20.29         14.34          135.10     1297.0          0.10030   \n",
       "\n",
       "   mean compactness  mean concavity  mean concave points  mean symmetry  \\\n",
       "0           0.27760          0.3001              0.14710         0.2419   \n",
       "1           0.07864          0.0869              0.07017         0.1812   \n",
       "2           0.15990          0.1974              0.12790         0.2069   \n",
       "3           0.28390          0.2414              0.10520         0.2597   \n",
       "4           0.13280          0.1980              0.10430         0.1809   \n",
       "\n",
       "   mean fractal dimension  ...  worst texture  worst perimeter  worst area  \\\n",
       "0                 0.07871  ...          17.33           184.60      2019.0   \n",
       "1                 0.05667  ...          23.41           158.80      1956.0   \n",
       "2                 0.05999  ...          25.53           152.50      1709.0   \n",
       "3                 0.09744  ...          26.50            98.87       567.7   \n",
       "4                 0.05883  ...          16.67           152.20      1575.0   \n",
       "\n",
       "   worst smoothness  worst compactness  worst concavity  worst concave points  \\\n",
       "0            0.1622             0.6656           0.7119                0.2654   \n",
       "1            0.1238             0.1866           0.2416                0.1860   \n",
       "2            0.1444             0.4245           0.4504                0.2430   \n",
       "3            0.2098             0.8663           0.6869                0.2575   \n",
       "4            0.1374             0.2050           0.4000                0.1625   \n",
       "\n",
       "   worst symmetry  worst fractal dimension  Benign  \n",
       "0          0.4601                  0.11890     0.0  \n",
       "1          0.2750                  0.08902     0.0  \n",
       "2          0.3613                  0.08758     0.0  \n",
       "3          0.6638                  0.17300     0.0  \n",
       "4          0.2364                  0.07678     0.0  \n",
       "\n",
       "[5 rows x 31 columns]"
      ]
     },
     "execution_count": 14,
     "metadata": {},
     "output_type": "execute_result"
    }
   ],
   "source": [
    "from sklearn.datasets import load_breast_cancer\n",
    "cancer = load_breast_cancer()\n",
    "X = cancer.data\n",
    "y = cancer.target\n",
    "names = list(cancer.feature_names)\n",
    "Xy_combined = np.concatenate((X, y[:, np.newaxis]), axis=1)\n",
    "df = pd.DataFrame(Xy_combined,\n",
    "                  columns=names + ['Benign'])\n",
    "df.head()"
   ]
  },
  {
   "cell_type": "markdown",
   "metadata": {},
   "source": [
    "Let's split the dataset into a training set and a testing set using function ``train_test_split``:"
   ]
  },
  {
   "cell_type": "code",
   "execution_count": 16,
   "metadata": {},
   "outputs": [],
   "source": [
    "from sklearn.model_selection import train_test_split\n",
    "X_train, X_test, y_train, y_test = train_test_split(X,\n",
    "                                                    y,\n",
    "                                                    test_size=0.33,\n",
    "                                                    random_state=0)"
   ]
  },
  {
   "cell_type": "markdown",
   "metadata": {},
   "source": [
    "Now we can visualize the dimensions of the sets:"
   ]
  },
  {
   "cell_type": "code",
   "execution_count": 17,
   "metadata": {},
   "outputs": [
    {
     "data": {
      "text/plain": [
       "((381, 30), (188, 30), (381,), (188,))"
      ]
     },
     "execution_count": 17,
     "metadata": {},
     "output_type": "execute_result"
    }
   ],
   "source": [
    "X_train.shape, X_test.shape, y_train.shape, y_test.shape"
   ]
  },
  {
   "cell_type": "markdown",
   "metadata": {},
   "source": [
    "**Task 2.1**\n",
    "Build an MLP suitable for the breast cancer dataset. Use a `Sequential()` model and `Dense` layers from Keras. You are free to pick any number of hidden layers and any number of units per layer as long as it works. Use suitable activation functions."
   ]
  },
  {
   "cell_type": "code",
   "execution_count": 18,
   "metadata": {},
   "outputs": [
    {
     "name": "stdout",
     "output_type": "stream",
     "text": [
      "Model: \"sequential_2\"\n",
      "_________________________________________________________________\n",
      " Layer (type)                Output Shape              Param #   \n",
      "=================================================================\n",
      " dense_8 (Dense)             (None, 64)                1984      \n",
      "                                                                 \n",
      " dense_9 (Dense)             (None, 32)                2080      \n",
      "                                                                 \n",
      " dense_10 (Dense)            (None, 16)                528       \n",
      "                                                                 \n",
      " dense_11 (Dense)            (None, 1)                 17        \n",
      "                                                                 \n",
      "=================================================================\n",
      "Total params: 4,609\n",
      "Trainable params: 4,609\n",
      "Non-trainable params: 0\n",
      "_________________________________________________________________\n"
     ]
    }
   ],
   "source": [
    "# Define the model\n",
    "model = Sequential()\n",
    "\n",
    "# Add input layer\n",
    "model.add(Dense(64, input_dim=X_train.shape[1], activation='relu'))\n",
    "\n",
    "# Add hidden layers\n",
    "model.add(Dense(32, activation='relu'))\n",
    "model.add(Dense(16, activation='relu'))\n",
    "\n",
    "# Add output layer\n",
    "model.add(Dense(1, activation='sigmoid'))  # Sigmoid activation for binary classification\n",
    "\n",
    "# Print the model summary\n",
    "model.summary()\n"
   ]
  },
  {
   "cell_type": "markdown",
   "metadata": {},
   "source": [
    "**Task 2.2**\n",
    "Compile the model by selecting a suitable optimizer and a suitable loss function. Also include a metric or metrics."
   ]
  },
  {
   "cell_type": "code",
   "execution_count": 19,
   "metadata": {},
   "outputs": [],
   "source": [
    "model.compile(loss='binary_crossentropy', optimizer='adam', metrics=['accuracy'])"
   ]
  },
  {
   "cell_type": "markdown",
   "metadata": {},
   "source": [
    "**Task 2.3**\n",
    "Train the model on X_train, y_train and use X_test, y_test as validation data. Pick a suitable number of epochs and batch size."
   ]
  },
  {
   "cell_type": "code",
   "execution_count": 20,
   "metadata": {},
   "outputs": [
    {
     "name": "stdout",
     "output_type": "stream",
     "text": [
      "Epoch 1/50\n",
      "12/12 [==============================] - 1s 17ms/step - loss: 13.3454 - accuracy: 0.4934 - val_loss: 3.0783 - val_accuracy: 0.3564\n",
      "Epoch 2/50\n",
      "12/12 [==============================] - 0s 4ms/step - loss: 2.7711 - accuracy: 0.5328 - val_loss: 0.3528 - val_accuracy: 0.8989\n",
      "Epoch 3/50\n",
      "12/12 [==============================] - 0s 4ms/step - loss: 0.4540 - accuracy: 0.8136 - val_loss: 0.3847 - val_accuracy: 0.8989\n",
      "Epoch 4/50\n",
      "12/12 [==============================] - 0s 4ms/step - loss: 0.4018 - accuracy: 0.8898 - val_loss: 0.3335 - val_accuracy: 0.9149\n",
      "Epoch 5/50\n",
      "12/12 [==============================] - 0s 4ms/step - loss: 0.4174 - accuracy: 0.8583 - val_loss: 0.3082 - val_accuracy: 0.9202\n",
      "Epoch 6/50\n",
      "12/12 [==============================] - 0s 4ms/step - loss: 0.3086 - accuracy: 0.9029 - val_loss: 0.2862 - val_accuracy: 0.9149\n",
      "Epoch 7/50\n",
      "12/12 [==============================] - 0s 4ms/step - loss: 0.2879 - accuracy: 0.8924 - val_loss: 0.3062 - val_accuracy: 0.9149\n",
      "Epoch 8/50\n",
      "12/12 [==============================] - 0s 5ms/step - loss: 0.2683 - accuracy: 0.9055 - val_loss: 0.2392 - val_accuracy: 0.9202\n",
      "Epoch 9/50\n",
      "12/12 [==============================] - 0s 4ms/step - loss: 0.2641 - accuracy: 0.9029 - val_loss: 0.3661 - val_accuracy: 0.8989\n",
      "Epoch 10/50\n",
      "12/12 [==============================] - 0s 5ms/step - loss: 0.3587 - accuracy: 0.8714 - val_loss: 0.3334 - val_accuracy: 0.9096\n",
      "Epoch 11/50\n",
      "12/12 [==============================] - 0s 5ms/step - loss: 0.2853 - accuracy: 0.8976 - val_loss: 0.2282 - val_accuracy: 0.9202\n",
      "Epoch 12/50\n",
      "12/12 [==============================] - 0s 4ms/step - loss: 0.2653 - accuracy: 0.9081 - val_loss: 0.3845 - val_accuracy: 0.8670\n",
      "Epoch 13/50\n",
      "12/12 [==============================] - 0s 5ms/step - loss: 0.3075 - accuracy: 0.9003 - val_loss: 0.2137 - val_accuracy: 0.9362\n",
      "Epoch 14/50\n",
      "12/12 [==============================] - 0s 5ms/step - loss: 0.2540 - accuracy: 0.9108 - val_loss: 0.2113 - val_accuracy: 0.9309\n",
      "Epoch 15/50\n",
      "12/12 [==============================] - 0s 4ms/step - loss: 0.2376 - accuracy: 0.9081 - val_loss: 0.2241 - val_accuracy: 0.9202\n",
      "Epoch 16/50\n",
      "12/12 [==============================] - 0s 5ms/step - loss: 0.2259 - accuracy: 0.9108 - val_loss: 0.1993 - val_accuracy: 0.9309\n",
      "Epoch 17/50\n",
      "12/12 [==============================] - 0s 5ms/step - loss: 0.2350 - accuracy: 0.9160 - val_loss: 0.2059 - val_accuracy: 0.9255\n",
      "Epoch 18/50\n",
      "12/12 [==============================] - 0s 4ms/step - loss: 0.2203 - accuracy: 0.9108 - val_loss: 0.1894 - val_accuracy: 0.9309\n",
      "Epoch 19/50\n",
      "12/12 [==============================] - 0s 4ms/step - loss: 0.2373 - accuracy: 0.9108 - val_loss: 0.1942 - val_accuracy: 0.9309\n",
      "Epoch 20/50\n",
      "12/12 [==============================] - 0s 5ms/step - loss: 0.2544 - accuracy: 0.9134 - val_loss: 0.2949 - val_accuracy: 0.8830\n",
      "Epoch 21/50\n",
      "12/12 [==============================] - 0s 5ms/step - loss: 0.2465 - accuracy: 0.9160 - val_loss: 0.1843 - val_accuracy: 0.9468\n",
      "Epoch 22/50\n",
      "12/12 [==============================] - 0s 5ms/step - loss: 0.2285 - accuracy: 0.9081 - val_loss: 0.2136 - val_accuracy: 0.9362\n",
      "Epoch 23/50\n",
      "12/12 [==============================] - 0s 4ms/step - loss: 0.2700 - accuracy: 0.9081 - val_loss: 0.4881 - val_accuracy: 0.8245\n",
      "Epoch 24/50\n",
      "12/12 [==============================] - 0s 4ms/step - loss: 0.4077 - accuracy: 0.8451 - val_loss: 0.1925 - val_accuracy: 0.9521\n",
      "Epoch 25/50\n",
      "12/12 [==============================] - 0s 4ms/step - loss: 0.4894 - accuracy: 0.8425 - val_loss: 0.6732 - val_accuracy: 0.8457\n",
      "Epoch 26/50\n",
      "12/12 [==============================] - 0s 4ms/step - loss: 0.3517 - accuracy: 0.8819 - val_loss: 0.2308 - val_accuracy: 0.9096\n",
      "Epoch 27/50\n",
      "12/12 [==============================] - 0s 4ms/step - loss: 0.3098 - accuracy: 0.8871 - val_loss: 0.2930 - val_accuracy: 0.8883\n",
      "Epoch 28/50\n",
      "12/12 [==============================] - 0s 4ms/step - loss: 0.2701 - accuracy: 0.9003 - val_loss: 0.2587 - val_accuracy: 0.9255\n",
      "Epoch 29/50\n",
      "12/12 [==============================] - 0s 5ms/step - loss: 0.2387 - accuracy: 0.9055 - val_loss: 0.1922 - val_accuracy: 0.9362\n",
      "Epoch 30/50\n",
      "12/12 [==============================] - 0s 5ms/step - loss: 0.2187 - accuracy: 0.9213 - val_loss: 0.4782 - val_accuracy: 0.8245\n",
      "Epoch 31/50\n",
      "12/12 [==============================] - 0s 4ms/step - loss: 0.2587 - accuracy: 0.8924 - val_loss: 0.1918 - val_accuracy: 0.9202\n",
      "Epoch 32/50\n",
      "12/12 [==============================] - 0s 4ms/step - loss: 0.2026 - accuracy: 0.9160 - val_loss: 0.2470 - val_accuracy: 0.8936\n",
      "Epoch 33/50\n",
      "12/12 [==============================] - 0s 4ms/step - loss: 0.1878 - accuracy: 0.9160 - val_loss: 0.1746 - val_accuracy: 0.9362\n",
      "Epoch 34/50\n",
      "12/12 [==============================] - 0s 4ms/step - loss: 0.1959 - accuracy: 0.9186 - val_loss: 0.1683 - val_accuracy: 0.9415\n",
      "Epoch 35/50\n",
      "12/12 [==============================] - 0s 5ms/step - loss: 0.1990 - accuracy: 0.9186 - val_loss: 0.1554 - val_accuracy: 0.9521\n",
      "Epoch 36/50\n",
      "12/12 [==============================] - 0s 5ms/step - loss: 0.1851 - accuracy: 0.9213 - val_loss: 0.1526 - val_accuracy: 0.9521\n",
      "Epoch 37/50\n",
      "12/12 [==============================] - 0s 4ms/step - loss: 0.2242 - accuracy: 0.9160 - val_loss: 0.2009 - val_accuracy: 0.9202\n",
      "Epoch 38/50\n",
      "12/12 [==============================] - 0s 4ms/step - loss: 0.2196 - accuracy: 0.9213 - val_loss: 0.1853 - val_accuracy: 0.9362\n",
      "Epoch 39/50\n",
      "12/12 [==============================] - 0s 4ms/step - loss: 0.2071 - accuracy: 0.9108 - val_loss: 0.1453 - val_accuracy: 0.9521\n",
      "Epoch 40/50\n",
      "12/12 [==============================] - 0s 5ms/step - loss: 0.1905 - accuracy: 0.9370 - val_loss: 0.2174 - val_accuracy: 0.9043\n",
      "Epoch 41/50\n",
      "12/12 [==============================] - 0s 5ms/step - loss: 0.2343 - accuracy: 0.9186 - val_loss: 0.1519 - val_accuracy: 0.9468\n",
      "Epoch 42/50\n",
      "12/12 [==============================] - 0s 4ms/step - loss: 0.2853 - accuracy: 0.9029 - val_loss: 0.1433 - val_accuracy: 0.9468\n",
      "Epoch 43/50\n",
      "12/12 [==============================] - 0s 5ms/step - loss: 0.3528 - accuracy: 0.8635 - val_loss: 0.1950 - val_accuracy: 0.9309\n",
      "Epoch 44/50\n",
      "12/12 [==============================] - 0s 5ms/step - loss: 0.5920 - accuracy: 0.8530 - val_loss: 0.2988 - val_accuracy: 0.9149\n",
      "Epoch 45/50\n",
      "12/12 [==============================] - 0s 5ms/step - loss: 0.4351 - accuracy: 0.8609 - val_loss: 0.2770 - val_accuracy: 0.8723\n",
      "Epoch 46/50\n",
      "12/12 [==============================] - 0s 4ms/step - loss: 0.2410 - accuracy: 0.9081 - val_loss: 0.1492 - val_accuracy: 0.9521\n",
      "Epoch 47/50\n",
      "12/12 [==============================] - 0s 5ms/step - loss: 0.2042 - accuracy: 0.9186 - val_loss: 0.1900 - val_accuracy: 0.9415\n",
      "Epoch 48/50\n",
      "12/12 [==============================] - 0s 4ms/step - loss: 0.2287 - accuracy: 0.9213 - val_loss: 0.1458 - val_accuracy: 0.9521\n",
      "Epoch 49/50\n",
      "12/12 [==============================] - 0s 5ms/step - loss: 0.2753 - accuracy: 0.9186 - val_loss: 0.1550 - val_accuracy: 0.9468\n",
      "Epoch 50/50\n",
      "12/12 [==============================] - 0s 5ms/step - loss: 0.3483 - accuracy: 0.9003 - val_loss: 0.3792 - val_accuracy: 0.8883\n"
     ]
    }
   ],
   "source": [
    "# Train the model\n",
    "history_1 = model.fit(X_train, y_train, \n",
    "                    epochs=50, \n",
    "                    batch_size=32, \n",
    "                    validation_data=(X_test, y_test))\n"
   ]
  },
  {
   "cell_type": "markdown",
   "metadata": {},
   "source": [
    "**Task 2.4**\n",
    "Evaluate the model using `model.evaluate()`."
   ]
  },
  {
   "cell_type": "code",
   "execution_count": 21,
   "metadata": {},
   "outputs": [
    {
     "name": "stdout",
     "output_type": "stream",
     "text": [
      "6/6 [==============================] - 0s 1000us/step - loss: 0.3792 - accuracy: 0.8883\n",
      "Loss: 0.3791903257369995\n",
      "Accuracy: 0.8882978558540344\n"
     ]
    }
   ],
   "source": [
    "# Evaluate the model\n",
    "loss, accuracy = model.evaluate(X_test, y_test)\n",
    "print(\"Loss:\", loss)\n",
    "print(\"Accuracy:\", accuracy)\n"
   ]
  },
  {
   "cell_type": "markdown",
   "metadata": {},
   "source": [
    "**Task 2.5**\n",
    "Plot the confusion matrix for your trained model on the test set."
   ]
  },
  {
   "cell_type": "code",
   "execution_count": 23,
   "metadata": {},
   "outputs": [
    {
     "name": "stdout",
     "output_type": "stream",
     "text": [
      "6/6 [==============================] - 0s 999us/step\n"
     ]
    },
    {
     "data": {
      "image/png": "[encoded data removed]",
      "text/plain": [
       "<Figure size 800x600 with 2 Axes>"
      ]
     },
     "metadata": {},
     "output_type": "display_data"
    }
   ],
   "source": [
    "from sklearn.metrics import confusion_matrix\n",
    "import seaborn as sns\n",
    "\n",
    "# Get predictions on the test set\n",
    "predictions = model.predict(X_test)\n",
    "predictions = (predictions > 0.5)  # Convert probabilities to binary predictions\n",
    "\n",
    "# Generate confusion matrix\n",
    "cm = confusion_matrix(y_test, predictions)\n",
    "\n",
    "# Plot confusion matrix\n",
    "plt.figure(figsize=(8, 6))\n",
    "sns.heatmap(cm, annot=True, cmap='Blues', fmt='d', xticklabels=['Benign', 'Malignant'], yticklabels=['Benign', 'Malignant'])\n",
    "plt.xlabel('Predicted')\n",
    "plt.ylabel('Actual')\n",
    "plt.title('Confusion Matrix')\n",
    "plt.show()\n"
   ]
  },
  {
   "cell_type": "markdown",
   "metadata": {},
   "source": [
    "## 3. Multi-class Classification"
   ]
  },
  {
   "cell_type": "markdown",
   "metadata": {},
   "source": [
    "Multi-class classification is a task where an instance or sample can be classified into more than two categories or classes.\n",
    "\n",
    "**The dataset**\n",
    "\n",
    "In this task, you will use the MNIST dataset provided by `keras`.\n",
    "\n",
    "Please read the dataset documentation before you start:\n",
    "\n",
    "https://keras.io/api/datasets/mnist/"
   ]
  },
  {
   "cell_type": "markdown",
   "metadata": {},
   "source": [
    "Now let's load the dataset (notice that function ``mnist.load_data`` automatizally splits the data into a training set and a testing set):"
   ]
  },
  {
   "cell_type": "code",
   "execution_count": 24,
   "metadata": {},
   "outputs": [],
   "source": [
    "from keras.datasets import mnist\n",
    "(X_train, y_train), (X_test, y_test) = mnist.load_data()"
   ]
  },
  {
   "cell_type": "markdown",
   "metadata": {},
   "source": [
    "To visualize how the samples look like, we can display a random sample from the dataset:"
   ]
  },
  {
   "cell_type": "code",
   "execution_count": 25,
   "metadata": {},
   "outputs": [
    {
     "name": "stdout",
     "output_type": "stream",
     "text": [
      "Label: 2\n"
     ]
    },
    {
     "data": {
      "image/png": "[encoded data removed]",
      "text/plain": [
       "<Figure size 640x480 with 1 Axes>"
      ]
     },
     "metadata": {},
     "output_type": "display_data"
    }
   ],
   "source": [
    "# View random digit\n",
    "index = np.random.randint(0, 60000)\n",
    "plt.imshow(X_train[index])\n",
    "print('Label:', y_train[index])"
   ]
  },
  {
   "cell_type": "markdown",
   "metadata": {},
   "source": [
    "We can also visualize the dimensions of the sets:"
   ]
  },
  {
   "cell_type": "code",
   "execution_count": 26,
   "metadata": {},
   "outputs": [
    {
     "data": {
      "text/plain": [
       "((60000, 28, 28), (10000, 28, 28), (60000,), (10000,))"
      ]
     },
     "execution_count": 26,
     "metadata": {},
     "output_type": "execute_result"
    }
   ],
   "source": [
    "X_train.shape, X_test.shape, y_train.shape, y_test.shape"
   ]
  },
  {
   "cell_type": "markdown",
   "metadata": {},
   "source": [
    "**Task 3.1**\n",
    "The MLP architecture you will build is given below. 784 input units, two hidden layers with 30 units each, one output layer with 10 units. \n",
    "\n",
    "<img src=\"https://edirlei.com/images/nn2.png\" width=\"500\">\n",
    "\n",
    "**Important**: Notice that X_train/X_test shape and the input layer shape of the network are not compatible (X_train shape is ``(, 28, 28)``, but the expected input layer shape is ``(, 784)``). Similarly, y_train/y_test and the output layer shape of the network, are not compatible (y_train shape is ``(,1)``, but the expected output layer shape is ``(,10)``). To solve this problem, you need to preprocess the data to make them compatible. Here are some hints on how to solve this problem:\n",
    "\n",
    "- You can solve the incompatibility of the input by using the [reshape function](https://numpy.org/doc/stable/reference/generated/numpy.reshape.html).\n",
    "- You can solve the incompatibility of the output by using one-hot encoding through the [to_categorical function](https://www.tensorflow.org/api_docs/python/tf/keras/utils/to_categorical).\n",
    "\n"
   ]
  },
  {
   "cell_type": "code",
   "execution_count": 27,
   "metadata": {},
   "outputs": [],
   "source": [
    "from tensorflow.keras.utils import to_categorical\n",
    "\n",
    "# Reshape input data\n",
    "X_train_flat = X_train.reshape(X_train.shape[0], -1)  # Flatten each image into a vector\n",
    "X_test_flat = X_test.reshape(X_test.shape[0], -1)\n",
    "\n",
    "# One-hot encode output data\n",
    "y_train_onehot = to_categorical(y_train, num_classes=10)\n",
    "y_test_onehot = to_categorical(y_test, num_classes=10)"
   ]
  },
  {
   "cell_type": "markdown",
   "metadata": {},
   "source": [
    "**Task 3.2**\n",
    "Build an MLP suitable for the MNIST dataset. Use a `Sequential()` model and `Dense` layers from Keras. Build the architecture shown in Task 3.1 Use suitable activation functions."
   ]
  },
  {
   "cell_type": "code",
   "execution_count": 28,
   "metadata": {},
   "outputs": [
    {
     "name": "stdout",
     "output_type": "stream",
     "text": [
      "Model: \"sequential_3\"\n",
      "_________________________________________________________________\n",
      " Layer (type)                Output Shape              Param #   \n",
      "=================================================================\n",
      " dense_12 (Dense)            (None, 30)                23550     \n",
      "                                                                 \n",
      " dense_13 (Dense)            (None, 30)                930       \n",
      "                                                                 \n",
      " dense_14 (Dense)            (None, 30)                930       \n",
      "                                                                 \n",
      " dense_15 (Dense)            (None, 10)                310       \n",
      "                                                                 \n",
      "=================================================================\n",
      "Total params: 25,720\n",
      "Trainable params: 25,720\n",
      "Non-trainable params: 0\n",
      "_________________________________________________________________\n"
     ]
    }
   ],
   "source": [
    "from tensorflow.keras.models import Sequential\n",
    "from tensorflow.keras.layers import Dense\n",
    "\n",
    "# Define the model\n",
    "model = Sequential()\n",
    "\n",
    "# Add input layer\n",
    "model.add(Dense(30, input_shape=(784,), activation='relu'))\n",
    "\n",
    "# Add hidden layers\n",
    "model.add(Dense(30, activation='relu'))\n",
    "model.add(Dense(30, activation='relu'))\n",
    "\n",
    "# Add output layer\n",
    "model.add(Dense(10, activation='softmax'))  # Softmax activation for multi-class classification\n",
    "\n",
    "# Print the model summary\n",
    "model.summary()\n"
   ]
  },
  {
   "cell_type": "markdown",
   "metadata": {},
   "source": [
    "**Task 3.3**\n",
    "Compile the model by selecting a suitable optimizer and a suitable loss function. Also include a metric or metrics."
   ]
  },
  {
   "cell_type": "code",
   "execution_count": 29,
   "metadata": {},
   "outputs": [],
   "source": [
    "# Compile the model\n",
    "model.compile(optimizer='adam', \n",
    "              loss='categorical_crossentropy', \n",
    "              metrics=['accuracy'])\n"
   ]
  },
  {
   "cell_type": "markdown",
   "metadata": {},
   "source": [
    "**Task 3.4**\n",
    "Train the model on X_train, y_train and use X_test, y_test as validation data. Pick a suitable number of epochs and batch size."
   ]
  },
  {
   "cell_type": "code",
   "execution_count": 33,
   "metadata": {},
   "outputs": [
    {
     "name": "stdout",
     "output_type": "stream",
     "text": [
      "Epoch 1/20\n",
      "469/469 [==============================] - 1s 2ms/step - loss: 0.0758 - accuracy: 0.9808 - val_loss: 0.3547 - val_accuracy: 0.9544\n",
      "Epoch 2/20\n",
      "469/469 [==============================] - 1s 2ms/step - loss: 0.0388 - accuracy: 0.9882 - val_loss: 0.3861 - val_accuracy: 0.9537\n",
      "Epoch 3/20\n",
      "469/469 [==============================] - 1s 2ms/step - loss: 0.0343 - accuracy: 0.9897 - val_loss: 0.3342 - val_accuracy: 0.9573\n",
      "Epoch 4/20\n",
      "469/469 [==============================] - 1s 2ms/step - loss: 0.0271 - accuracy: 0.9914 - val_loss: 0.3644 - val_accuracy: 0.9557\n",
      "Epoch 5/20\n",
      "469/469 [==============================] - 1s 2ms/step - loss: 0.0284 - accuracy: 0.9908 - val_loss: 0.3584 - val_accuracy: 0.9567\n",
      "Epoch 6/20\n",
      "469/469 [==============================] - 1s 2ms/step - loss: 0.0330 - accuracy: 0.9903 - val_loss: 0.3579 - val_accuracy: 0.9572\n",
      "Epoch 7/20\n",
      "469/469 [==============================] - 1s 2ms/step - loss: 0.0302 - accuracy: 0.9906 - val_loss: 0.4084 - val_accuracy: 0.9523\n",
      "Epoch 8/20\n",
      "469/469 [==============================] - 1s 2ms/step - loss: 0.0311 - accuracy: 0.9901 - val_loss: 0.3474 - val_accuracy: 0.9554\n",
      "Epoch 9/20\n",
      "469/469 [==============================] - 1s 2ms/step - loss: 0.0279 - accuracy: 0.9912 - val_loss: 0.3868 - val_accuracy: 0.9576\n",
      "Epoch 10/20\n",
      "469/469 [==============================] - 1s 2ms/step - loss: 0.0317 - accuracy: 0.9903 - val_loss: 0.3722 - val_accuracy: 0.9568\n",
      "Epoch 11/20\n",
      "469/469 [==============================] - 1s 2ms/step - loss: 0.0350 - accuracy: 0.9895 - val_loss: 0.3513 - val_accuracy: 0.9558\n",
      "Epoch 12/20\n",
      "469/469 [==============================] - 1s 3ms/step - loss: 0.0247 - accuracy: 0.9925 - val_loss: 0.3642 - val_accuracy: 0.9593\n",
      "Epoch 13/20\n",
      "469/469 [==============================] - 1s 3ms/step - loss: 0.0271 - accuracy: 0.9914 - val_loss: 0.3989 - val_accuracy: 0.9559\n",
      "Epoch 14/20\n",
      "469/469 [==============================] - 1s 3ms/step - loss: 0.0348 - accuracy: 0.9891 - val_loss: 0.4087 - val_accuracy: 0.9566\n",
      "Epoch 15/20\n",
      "469/469 [==============================] - 1s 3ms/step - loss: 0.0316 - accuracy: 0.9905 - val_loss: 0.3526 - val_accuracy: 0.9571\n",
      "Epoch 16/20\n",
      "469/469 [==============================] - 1s 3ms/step - loss: 0.0253 - accuracy: 0.9919 - val_loss: 0.3995 - val_accuracy: 0.9562\n",
      "Epoch 17/20\n",
      "469/469 [==============================] - 1s 3ms/step - loss: 0.0346 - accuracy: 0.9895 - val_loss: 0.3687 - val_accuracy: 0.9572\n",
      "Epoch 18/20\n",
      "469/469 [==============================] - 1s 3ms/step - loss: 0.0270 - accuracy: 0.9917 - val_loss: 0.3828 - val_accuracy: 0.9596\n",
      "Epoch 19/20\n",
      "469/469 [==============================] - 1s 3ms/step - loss: 0.0282 - accuracy: 0.9913 - val_loss: 0.3848 - val_accuracy: 0.9552\n",
      "Epoch 20/20\n",
      "469/469 [==============================] - 1s 3ms/step - loss: 0.0295 - accuracy: 0.9912 - val_loss: 0.3720 - val_accuracy: 0.9586\n"
     ]
    }
   ],
   "source": [
    "# Train the model\n",
    "history = model.fit(X_train_flat, y_train_onehot, \n",
    "                    epochs=20, \n",
    "                    batch_size=128, \n",
    "                    validation_data=(X_test_flat, y_test_onehot))\n"
   ]
  },
  {
   "cell_type": "markdown",
   "metadata": {},
   "source": [
    "**Task 3.5**\n",
    "Evaluate the model using `model.evaluate()`."
   ]
  },
  {
   "cell_type": "code",
   "execution_count": 34,
   "metadata": {},
   "outputs": [
    {
     "name": "stdout",
     "output_type": "stream",
     "text": [
      "313/313 [==============================] - 0s 1ms/step - loss: 0.3720 - accuracy: 0.9586\n",
      "Loss: 0.371958464384079\n",
      "Accuracy: 0.9585999846458435\n"
     ]
    }
   ],
   "source": [
    "# Evaluate the model\n",
    "loss, accuracy = model.evaluate(X_test_flat, y_test_onehot)\n",
    "print(\"Loss:\", loss)\n",
    "print(\"Accuracy:\", accuracy)\n"
   ]
  },
  {
   "cell_type": "markdown",
   "metadata": {},
   "source": [
    "**Challenge:**\n",
    "Find the worst prediction. If you struggle with this task, try it later."
   ]
  },
  {
   "cell_type": "code",
   "execution_count": null,
   "metadata": {},
   "outputs": [],
   "source": [
    "# YOUR CODE HERE #"
   ]
  },
  {
   "cell_type": "markdown",
   "metadata": {},
   "source": [
    "## 4. Multi-label Classification"
   ]
  },
  {
   "cell_type": "markdown",
   "metadata": {},
   "source": [
    "Multi-label classification is a type of classification where an instance (or data point) can be classified into multiple classes or categories simultaneously. This is different from multi-class classification, where each instance is assigned to only one class.\n",
    "\n",
    "**The dataset**\n",
    "\n",
    "In this task you will use a simulated dataset.\n",
    "\n",
    "You are given 4 random integers ($x_1, x_2, x_3, x_4$) between -5 and 5 ($x_i \\in [-5, 5]$). Your task is to develop an MLP that predicts parity and sign of the product of these four numbers ($x_1 \\times x_2 \\times x_3 \\times x_4$).\n",
    "\n",
    "**Definitions**\n",
    "\n",
    "In mathematics, parity is the property of an integer of whether it is even or odd.\n",
    "\n",
    "In mathematics, the sign of a real number is its property of being either positive, negative, or zero.\n",
    "\n",
    "**Example**\n",
    "\n",
    "$x_1=-1, x_2=1, x_3=-3, x_4=-5$\n",
    "\n",
    "$ product = x_1 \\times x_2 \\times x_3 \\times x_4 = -15$\n",
    "\n",
    "parity of -15 is `odd` and sign of -15 is `negative`.\n",
    "\n",
    "**Columns**\n",
    "\n",
    "$x_i$: Integers between -5 (inclusive) and 5 (inclusive).\n",
    "\n",
    "Parity column: $x_1 \\times x_2 \\times x_3 \\times x_4$ is even (0) or odd (1).\n",
    "\n",
    "Sign column: $x_1 \\times x_2 \\times x_3 \\times x_4$ is negative (-1), or zero (0) or positive (1).\n",
    "\n",
    "|$x_1$|$x_2$|$x_3$|$x_4$|$Parity$|$Sign$|\n",
    "|:--|:--|:--|:--|:--|:--|\n",
    "|-2|-4|-1|1|0|-1|\n",
    "|-3|5|-3|3|1|1|\n",
    "|-4|-2|5|3|0|1|\n",
    "|-4|0|-5|0|0|0|\n",
    "|1|1|2|-4|0|-1|\n",
    "|-1|1|-3|-5|1|-1|\n"
   ]
  },
  {
   "cell_type": "markdown",
   "metadata": {},
   "source": [
    "Based on these definitions, we can write a function to generate a simulated dataset:"
   ]
  },
  {
   "cell_type": "code",
   "execution_count": 113,
   "metadata": {
    "code_folding": []
   },
   "outputs": [],
   "source": [
    "def simulator(n):\n",
    "    \n",
    "    # x_i numbers with shape (n, 4)\n",
    "    X = np.random.randint(-5, 6, size=(n, 4))\n",
    "\n",
    "    # product of 4 numbers for each row\n",
    "    # this will be used to calculate labels\n",
    "    # but this won't be part of the dataset\n",
    "    product = np.prod(X, axis=1)\n",
    "\n",
    "    # label 1\n",
    "    parity_col = product % 2\n",
    "    parity_col = parity_col.reshape(-1, 1)\n",
    "\n",
    "    # label 2\n",
    "    pos = (product > 0)*1\n",
    "    neg = (product < 0)*-1\n",
    "    zero = (product == 0)*0\n",
    "    sign_col = pos + neg + zero\n",
    "    sign_col = sign_col.reshape(-1, 1)\n",
    "\n",
    "    # concatenate columns to create the dataset\n",
    "    dataset = np.concatenate((X, parity_col, sign_col), axis=1)\n",
    "    \n",
    "    return dataset"
   ]
  },
  {
   "cell_type": "markdown",
   "metadata": {},
   "source": [
    "Now we can create the dataset:"
   ]
  },
  {
   "cell_type": "code",
   "execution_count": 114,
   "metadata": {},
   "outputs": [],
   "source": [
    "dataset = simulator(n=10000)"
   ]
  },
  {
   "cell_type": "markdown",
   "metadata": {},
   "source": [
    "To see how the data look like, we can display some samples from the dataset:"
   ]
  },
  {
   "cell_type": "code",
   "execution_count": 116,
   "metadata": {},
   "outputs": [
    {
     "data": {
      "text/html": [
       "<div>\n",
       "<style scoped>\n",
       "    .dataframe tbody tr th:only-of-type {\n",
       "        vertical-align: middle;\n",
       "    }\n",
       "\n",
       "    .dataframe tbody tr th {\n",
       "        vertical-align: top;\n",
       "    }\n",
       "\n",
       "    .dataframe thead th {\n",
       "        text-align: right;\n",
       "    }\n",
       "</style>\n",
       "<table border=\"1\" class=\"dataframe\">\n",
       "  <thead>\n",
       "    <tr style=\"text-align: right;\">\n",
       "      <th></th>\n",
       "      <th>x_1</th>\n",
       "      <th>x_2</th>\n",
       "      <th>x_3</th>\n",
       "      <th>x_4</th>\n",
       "      <th>Parity</th>\n",
       "      <th>Sign</th>\n",
       "    </tr>\n",
       "  </thead>\n",
       "  <tbody>\n",
       "    <tr>\n",
       "      <th>0</th>\n",
       "      <td>-3</td>\n",
       "      <td>0</td>\n",
       "      <td>-1</td>\n",
       "      <td>5</td>\n",
       "      <td>0</td>\n",
       "      <td>0</td>\n",
       "    </tr>\n",
       "    <tr>\n",
       "      <th>1</th>\n",
       "      <td>3</td>\n",
       "      <td>-4</td>\n",
       "      <td>0</td>\n",
       "      <td>-5</td>\n",
       "      <td>0</td>\n",
       "      <td>0</td>\n",
       "    </tr>\n",
       "    <tr>\n",
       "      <th>2</th>\n",
       "      <td>-1</td>\n",
       "      <td>4</td>\n",
       "      <td>5</td>\n",
       "      <td>1</td>\n",
       "      <td>0</td>\n",
       "      <td>-1</td>\n",
       "    </tr>\n",
       "    <tr>\n",
       "      <th>3</th>\n",
       "      <td>-2</td>\n",
       "      <td>-3</td>\n",
       "      <td>-1</td>\n",
       "      <td>-3</td>\n",
       "      <td>0</td>\n",
       "      <td>1</td>\n",
       "    </tr>\n",
       "    <tr>\n",
       "      <th>4</th>\n",
       "      <td>3</td>\n",
       "      <td>0</td>\n",
       "      <td>1</td>\n",
       "      <td>-2</td>\n",
       "      <td>0</td>\n",
       "      <td>0</td>\n",
       "    </tr>\n",
       "    <tr>\n",
       "      <th>5</th>\n",
       "      <td>-1</td>\n",
       "      <td>5</td>\n",
       "      <td>-5</td>\n",
       "      <td>-5</td>\n",
       "      <td>1</td>\n",
       "      <td>-1</td>\n",
       "    </tr>\n",
       "    <tr>\n",
       "      <th>6</th>\n",
       "      <td>-4</td>\n",
       "      <td>1</td>\n",
       "      <td>2</td>\n",
       "      <td>-5</td>\n",
       "      <td>0</td>\n",
       "      <td>1</td>\n",
       "    </tr>\n",
       "    <tr>\n",
       "      <th>7</th>\n",
       "      <td>-3</td>\n",
       "      <td>1</td>\n",
       "      <td>4</td>\n",
       "      <td>3</td>\n",
       "      <td>0</td>\n",
       "      <td>-1</td>\n",
       "    </tr>\n",
       "    <tr>\n",
       "      <th>8</th>\n",
       "      <td>2</td>\n",
       "      <td>-5</td>\n",
       "      <td>-1</td>\n",
       "      <td>3</td>\n",
       "      <td>0</td>\n",
       "      <td>1</td>\n",
       "    </tr>\n",
       "    <tr>\n",
       "      <th>9</th>\n",
       "      <td>-2</td>\n",
       "      <td>2</td>\n",
       "      <td>-3</td>\n",
       "      <td>-4</td>\n",
       "      <td>0</td>\n",
       "      <td>-1</td>\n",
       "    </tr>\n",
       "  </tbody>\n",
       "</table>\n",
       "</div>"
      ],
      "text/plain": [
       "   x_1  x_2  x_3  x_4  Parity  Sign\n",
       "0   -3    0   -1    5       0     0\n",
       "1    3   -4    0   -5       0     0\n",
       "2   -1    4    5    1       0    -1\n",
       "3   -2   -3   -1   -3       0     1\n",
       "4    3    0    1   -2       0     0\n",
       "5   -1    5   -5   -5       1    -1\n",
       "6   -4    1    2   -5       0     1\n",
       "7   -3    1    4    3       0    -1\n",
       "8    2   -5   -1    3       0     1\n",
       "9   -2    2   -3   -4       0    -1"
      ]
     },
     "execution_count": 116,
     "metadata": {},
     "output_type": "execute_result"
    }
   ],
   "source": [
    "df = pd.DataFrame(dataset, columns=['x_1', 'x_2', 'x_3', 'x_4', 'Parity', 'Sign'])\n",
    "df.head(10)"
   ]
  },
  {
   "cell_type": "markdown",
   "metadata": {},
   "source": [
    "**Task 4.1**\n",
    "Use the numpy array `dataset` to create `X` and `y`. Preprocess the data if needed."
   ]
  },
  {
   "cell_type": "code",
   "execution_count": 117,
   "metadata": {},
   "outputs": [],
   "source": [
    "X = df[[\"x_1\",\t\"x_2\",\t\"x_3\",\t\"x_4\"]]\t\t\n",
    "y = df[[\"Parity\",\t\"Sign\"]]"
   ]
  },
  {
   "cell_type": "markdown",
   "metadata": {},
   "source": [
    "After preprocessing the data, we can split the dataset into a training set and a testing set using function ``train_test_split``:"
   ]
  },
  {
   "cell_type": "code",
   "execution_count": 118,
   "metadata": {},
   "outputs": [],
   "source": [
    "from sklearn.model_selection import train_test_split\n",
    "X_train, X_test, y_train, y_test = train_test_split(X,\n",
    "                                                    y,\n",
    "                                                    test_size=0.33,\n",
    "                                                    random_state=0)"
   ]
  },
  {
   "cell_type": "markdown",
   "metadata": {},
   "source": [
    "Then we can visualize the dimensions of the sets:"
   ]
  },
  {
   "cell_type": "code",
   "execution_count": 119,
   "metadata": {},
   "outputs": [
    {
     "data": {
      "text/plain": [
       "((6700, 4), (6700, 2), (3300, 4), (3300, 2))"
      ]
     },
     "execution_count": 119,
     "metadata": {},
     "output_type": "execute_result"
    }
   ],
   "source": [
    "X_train.shape, y_train.shape, X_test.shape, y_test.shape"
   ]
  },
  {
   "cell_type": "markdown",
   "metadata": {},
   "source": [
    "**Task 4.2**\n",
    "Build a MLP suitable for this simulated dataset. Use a `Sequential()` model and `Dense` layers from Keras. Use suitable activation functions."
   ]
  },
  {
   "cell_type": "code",
   "execution_count": 123,
   "metadata": {},
   "outputs": [],
   "source": [
    "model = Sequential()\n",
    "model.add(Dense(64, input_shape=(4,), activation='sigmoid'))\n",
    "model.add(Dense(32, activation='sigmoid'))\n",
    "model.add(Dense(16, activation='sigmoid'))\n",
    "model.add(Dense(2, activation='sigmoid'))  # Sigmoid activation for multi-label classification\n"
   ]
  },
  {
   "cell_type": "markdown",
   "metadata": {},
   "source": [
    "**Task 4.3**\n",
    "Compile the model by selecting a suitable optimizer and a suitable loss function. Also include a metric or metrics."
   ]
  },
  {
   "cell_type": "code",
   "execution_count": 124,
   "metadata": {},
   "outputs": [],
   "source": [
    "# Compile the model\n",
    "model.compile(optimizer='adam', loss='binary_crossentropy', metrics=['accuracy'])"
   ]
  },
  {
   "cell_type": "markdown",
   "metadata": {},
   "source": [
    "**Task 4.4**\n",
    "Train the model on X_train, y_train and use X_test, y_test as validation data. Pick a suitable number of epochs and batch size."
   ]
  },
  {
   "cell_type": "code",
   "execution_count": 125,
   "metadata": {},
   "outputs": [
    {
     "name": "stdout",
     "output_type": "stream",
     "text": [
      "Epoch 1/20\n",
      "210/210 [==============================] - 3s 8ms/step - loss: 0.3469 - accuracy: 0.6937 - val_loss: 0.1957 - val_accuracy: 0.7088\n",
      "Epoch 2/20\n",
      "210/210 [==============================] - 1s 6ms/step - loss: 0.2121 - accuracy: 0.6937 - val_loss: 0.1652 - val_accuracy: 0.7088\n",
      "Epoch 3/20\n",
      "210/210 [==============================] - 1s 6ms/step - loss: 0.2026 - accuracy: 0.6937 - val_loss: 0.1571 - val_accuracy: 0.7088\n",
      "Epoch 4/20\n",
      "210/210 [==============================] - 1s 6ms/step - loss: 0.2014 - accuracy: 0.6937 - val_loss: 0.1547 - val_accuracy: 0.7088\n",
      "Epoch 5/20\n",
      "210/210 [==============================] - 1s 6ms/step - loss: 0.2009 - accuracy: 0.6937 - val_loss: 0.1528 - val_accuracy: 0.7088\n",
      "Epoch 6/20\n",
      "210/210 [==============================] - 1s 6ms/step - loss: 0.2006 - accuracy: 0.6937 - val_loss: 0.1512 - val_accuracy: 0.7088\n",
      "Epoch 7/20\n",
      "210/210 [==============================] - 1s 6ms/step - loss: 0.2003 - accuracy: 0.6937 - val_loss: 0.1500 - val_accuracy: 0.7088\n",
      "Epoch 8/20\n",
      "210/210 [==============================] - 1s 6ms/step - loss: 0.1989 - accuracy: 0.6937 - val_loss: 0.1486 - val_accuracy: 0.7088\n",
      "Epoch 9/20\n",
      "210/210 [==============================] - 1s 6ms/step - loss: 0.1876 - accuracy: 0.6937 - val_loss: 0.1261 - val_accuracy: 0.7088\n",
      "Epoch 10/20\n",
      "210/210 [==============================] - 1s 6ms/step - loss: 0.1415 - accuracy: 0.6964 - val_loss: 0.0616 - val_accuracy: 0.6918\n",
      "Epoch 11/20\n",
      "210/210 [==============================] - 1s 6ms/step - loss: 0.0637 - accuracy: 0.7103 - val_loss: -0.0494 - val_accuracy: 0.7582\n",
      "Epoch 12/20\n",
      "210/210 [==============================] - 1s 6ms/step - loss: -0.0587 - accuracy: 0.7436 - val_loss: -0.1797 - val_accuracy: 0.7645\n",
      "Epoch 13/20\n",
      "210/210 [==============================] - 1s 6ms/step - loss: -0.1894 - accuracy: 0.7530 - val_loss: -0.3438 - val_accuracy: 0.7627\n",
      "Epoch 14/20\n",
      "210/210 [==============================] - 1s 6ms/step - loss: -0.3159 - accuracy: 0.7624 - val_loss: -0.5114 - val_accuracy: 0.7848\n",
      "Epoch 15/20\n",
      "210/210 [==============================] - 1s 6ms/step - loss: -0.4612 - accuracy: 0.7727 - val_loss: -0.6814 - val_accuracy: 0.7918\n",
      "Epoch 16/20\n",
      "210/210 [==============================] - 1s 6ms/step - loss: -0.6176 - accuracy: 0.7806 - val_loss: -0.8771 - val_accuracy: 0.7988\n",
      "Epoch 17/20\n",
      "210/210 [==============================] - 1s 6ms/step - loss: -0.8053 - accuracy: 0.7842 - val_loss: -1.1047 - val_accuracy: 0.8061\n",
      "Epoch 18/20\n",
      "210/210 [==============================] - 1s 6ms/step - loss: -1.0298 - accuracy: 0.7925 - val_loss: -1.3728 - val_accuracy: 0.8109\n",
      "Epoch 19/20\n",
      "210/210 [==============================] - 1s 6ms/step - loss: -1.2894 - accuracy: 0.7961 - val_loss: -1.6614 - val_accuracy: 0.8152\n",
      "Epoch 20/20\n",
      "210/210 [==============================] - 1s 6ms/step - loss: -1.5985 - accuracy: 0.7987 - val_loss: -2.0424 - val_accuracy: 0.8127\n"
     ]
    }
   ],
   "source": [
    "history = model.fit(X_train, y_train, epochs=20, batch_size=32, validation_data=(X_test, y_test))"
   ]
  }
 ],
 "metadata": {
  "kernelspec": {
   "display_name": "Python 3",
   "language": "python",
   "name": "python3"
  },
  "language_info": {
   "codemirror_mode": {
    "name": "ipython",
    "version": 3
   },
   "file_extension": ".py",
   "mimetype": "text/x-python",
   "name": "python",
   "nbconvert_exporter": "python",
   "pygments_lexer": "ipython3",
   "version": "3.10.13"
  }
 },
 "nbformat": 4,
 "nbformat_minor": 2
}
